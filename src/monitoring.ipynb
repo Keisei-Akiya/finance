{
 "cells": [
  {
   "cell_type": "code",
   "execution_count": 1,
   "metadata": {},
   "outputs": [
    {
     "ename": "ModuleNotFoundError",
     "evalue": "No module named 'polars'",
     "output_type": "error",
     "traceback": [
      "\u001b[0;31m---------------------------------------------------------------------------\u001b[0m",
      "\u001b[0;31mModuleNotFoundError\u001b[0m                       Traceback (most recent call last)",
      "Cell \u001b[0;32mIn[1], line 1\u001b[0m\n\u001b[0;32m----> 1\u001b[0m \u001b[38;5;28;01mimport\u001b[39;00m \u001b[38;5;21;01mpolars\u001b[39;00m \u001b[38;5;28;01mas\u001b[39;00m \u001b[38;5;21;01mpl\u001b[39;00m\n\u001b[1;32m      2\u001b[0m \u001b[38;5;28;01mimport\u001b[39;00m \u001b[38;5;21;01mnumpy\u001b[39;00m \u001b[38;5;28;01mas\u001b[39;00m \u001b[38;5;21;01mnp\u001b[39;00m\n",
      "\u001b[0;31mModuleNotFoundError\u001b[0m: No module named 'polars'"
     ]
    }
   ],
   "source": [
    "import polars as pl\n",
    "import numpy as np"
   ]
  },
  {
   "cell_type": "code",
   "execution_count": 14,
   "metadata": {},
   "outputs": [
    {
     "data": {
      "text/html": [
       "<div><style>\n",
       ".dataframe > thead > tr,\n",
       ".dataframe > tbody > tr {\n",
       "  text-align: right;\n",
       "  white-space: pre-wrap;\n",
       "}\n",
       "</style>\n",
       "<small>shape: (5, 6)</small><table border=\"1\" class=\"dataframe\"><thead><tr><th>trade_date</th><th>ISIN_code</th><th>trade_quantity</th><th>trade_price</th><th>settlement_amount</th><th>sell_is_one</th></tr><tr><td>date</td><td>str</td><td>i64</td><td>i64</td><td>i64</td><td>i64</td></tr></thead><tbody><tr><td>2023-04-04</td><td>&quot;JP90C000GKC6&quot;</td><td>5159</td><td>19383</td><td>10000</td><td>0</td></tr><tr><td>2023-04-04</td><td>&quot;JP90C000H1T1&quot;</td><td>5812</td><td>17205</td><td>10000</td><td>0</td></tr><tr><td>2023-05-02</td><td>&quot;JP90C000GKC6&quot;</td><td>4915</td><td>20349</td><td>10000</td><td>0</td></tr><tr><td>2023-05-08</td><td>&quot;JP90C000GKC6&quot;</td><td>101</td><td>19826</td><td>200</td><td>0</td></tr><tr><td>2023-05-08</td><td>&quot;JP90C000H1T1&quot;</td><td>5665</td><td>17652</td><td>10000</td><td>0</td></tr></tbody></table></div>"
      ],
      "text/plain": [
       "shape: (5, 6)\n",
       "┌────────────┬──────────────┬────────────────┬─────────────┬───────────────────┬─────────────┐\n",
       "│ trade_date ┆ ISIN_code    ┆ trade_quantity ┆ trade_price ┆ settlement_amount ┆ sell_is_one │\n",
       "│ ---        ┆ ---          ┆ ---            ┆ ---         ┆ ---               ┆ ---         │\n",
       "│ date       ┆ str          ┆ i64            ┆ i64         ┆ i64               ┆ i64         │\n",
       "╞════════════╪══════════════╪════════════════╪═════════════╪═══════════════════╪═════════════╡\n",
       "│ 2023-04-04 ┆ JP90C000GKC6 ┆ 5159           ┆ 19383       ┆ 10000             ┆ 0           │\n",
       "│ 2023-04-04 ┆ JP90C000H1T1 ┆ 5812           ┆ 17205       ┆ 10000             ┆ 0           │\n",
       "│ 2023-05-02 ┆ JP90C000GKC6 ┆ 4915           ┆ 20349       ┆ 10000             ┆ 0           │\n",
       "│ 2023-05-08 ┆ JP90C000GKC6 ┆ 101            ┆ 19826       ┆ 200               ┆ 0           │\n",
       "│ 2023-05-08 ┆ JP90C000H1T1 ┆ 5665           ┆ 17652       ┆ 10000             ┆ 0           │\n",
       "└────────────┴──────────────┴────────────────┴─────────────┴───────────────────┴─────────────┘"
      ]
     },
     "execution_count": 14,
     "metadata": {},
     "output_type": "execute_result"
    }
   ],
   "source": [
    "df = pl.read_csv('../monitoring_data/trading_history.csv')\n",
    "# BEGIN: Convert 'trade_date' column to date type\n",
    "df = df.with_columns(pl.col('trade_date').str.strptime(pl.Date, '%Y/%m/%d'))\n",
    "# END:\n",
    "df.head()"
   ]
  },
  {
   "cell_type": "code",
   "execution_count": 46,
   "metadata": {},
   "outputs": [
    {
     "name": "stdout",
     "output_type": "stream",
     "text": [
      "principal: 873421\n",
      "number of units held: 379591\n",
      "trade price net: 23010\n"
     ]
    }
   ],
   "source": [
    "# 元本計算のため売却ならマイナスをつける\n",
    "df = df.with_columns(\n",
    "    pl.when(pl.col('sell_is_one') == 0)\n",
    "    .then(pl.col('trade_quantity') * pl.col('trade_price') / 10000)\n",
    "    .otherwise(-(pl.col('trade_quantity') * pl.col('trade_price') / 10000))\n",
    "    .alias('trade_value')\n",
    ")\n",
    "\n",
    "# 保有株数の計算のため，売却ならマイナスをつける\n",
    "df = df.with_columns(\n",
    "    pl.when(pl.col('sell_is_one') == 0)\n",
    "    .then(pl.col('trade_quantity'))\n",
    "    .otherwise(-pl.col('trade_quantity'))\n",
    "    .alias('trade_quantity_held')\n",
    ")\n",
    "\n",
    "principal = round(df.select(pl.sum('trade_value')).item()) # 元本\n",
    "number_of_units_held = df.select(pl.sum('trade_quantity_held')).item() # 保有株数\n",
    "trade_price_net = round(principal / number_of_units_held * 10000) # 取引価格の平均\n",
    "\n",
    "print(f\"principal: {principal}\")\n",
    "print(f\"number of units held: {number_of_units_held}\")\n",
    "print(f\"trade price net: {trade_price_net}\")"
   ]
  }
 ],
 "metadata": {
  "kernelspec": {
   "display_name": ".venv",
   "language": "python",
   "name": "python3"
  },
  "language_info": {
   "codemirror_mode": {
    "name": "ipython",
    "version": 3
   },
   "file_extension": ".py",
   "mimetype": "text/x-python",
   "name": "python",
   "nbconvert_exporter": "python",
   "pygments_lexer": "ipython3",
   "version": "3.12.6"
  }
 },
 "nbformat": 4,
 "nbformat_minor": 2
}
