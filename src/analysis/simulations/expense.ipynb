{
 "cells": [
  {
   "cell_type": "markdown",
   "metadata": {},
   "source": [
    "# 経費率の高いNISAか経費率の低い特定口座か"
   ]
  },
  {
   "cell_type": "code",
   "execution_count": 122,
   "metadata": {},
   "outputs": [],
   "source": [
    "import pandas as pd\n",
    "import numpy as np\n",
    "import matplotlib.pyplot as plt\n",
    "import seaborn as sns"
   ]
  },
  {
   "cell_type": "markdown",
   "metadata": {},
   "source": [
    "## 関数の定義"
   ]
  },
  {
   "cell_type": "code",
   "execution_count": 79,
   "metadata": {},
   "outputs": [],
   "source": [
    "# 元本，利益率，経費率，NISAから利益額を返す関数\n",
    "def get_profit(principal, profit_ratio, expense_ratio):\n",
    "    principal_add_profit = principal * (1 + profit_ratio) # リターン後の元本\n",
    "    expense = principal_add_profit * expense_ratio # 経費額\n",
    "\n",
    "    profit_nisa = principal_add_profit - expense - principal\n",
    "\n",
    "    tax_ratio = 0.20315 # 税率\n",
    "    tax = principal * profit_ratio * tax_ratio # 税金額\n",
    "    profit_non_nisa = principal_add_profit - tax - expense -principal\n",
    "    return profit_nisa, profit_non_nisa"
   ]
  },
  {
   "cell_type": "code",
   "execution_count": 120,
   "metadata": {},
   "outputs": [],
   "source": [
    "l_data = []\n",
    "l_label = ['expense_percent', 'nisa', 'no_nisa']\n",
    "\n",
    "for expense_ratio_times_10000 in range(1, 1001):\n",
    "    expense_ratio = expense_ratio_times_10000 / 10000\n",
    "    profit = get_profit(principal=1000000, profit_ratio=0.1, expense_ratio=expense_ratio)\n",
    "    expense_percent = expense_ratio * 100\n",
    "\n",
    "    l_data.append([expense_percent, profit[0], profit[1]])\n",
    "\n",
    "    # print(f'経費率: {expense_percent}%')\n",
    "    # print(f'NISAの利益: {profit[0]}')\n",
    "    # print(f'特定口座の利益: {profit[1]}')\n",
    "    # print('----------')"
   ]
  },
  {
   "cell_type": "code",
   "execution_count": 121,
   "metadata": {},
   "outputs": [
    {
     "data": {
      "text/html": [
       "<div>\n",
       "<style scoped>\n",
       "    .dataframe tbody tr th:only-of-type {\n",
       "        vertical-align: middle;\n",
       "    }\n",
       "\n",
       "    .dataframe tbody tr th {\n",
       "        vertical-align: top;\n",
       "    }\n",
       "\n",
       "    .dataframe thead th {\n",
       "        text-align: right;\n",
       "    }\n",
       "</style>\n",
       "<table border=\"1\" class=\"dataframe\">\n",
       "  <thead>\n",
       "    <tr style=\"text-align: right;\">\n",
       "      <th></th>\n",
       "      <th>expense_percent</th>\n",
       "      <th>nisa</th>\n",
       "      <th>no_nisa</th>\n",
       "    </tr>\n",
       "  </thead>\n",
       "  <tbody>\n",
       "    <tr>\n",
       "      <th>0</th>\n",
       "      <td>0.01</td>\n",
       "      <td>99890.0</td>\n",
       "      <td>79575.0</td>\n",
       "    </tr>\n",
       "    <tr>\n",
       "      <th>1</th>\n",
       "      <td>0.02</td>\n",
       "      <td>99780.0</td>\n",
       "      <td>79465.0</td>\n",
       "    </tr>\n",
       "    <tr>\n",
       "      <th>2</th>\n",
       "      <td>0.03</td>\n",
       "      <td>99670.0</td>\n",
       "      <td>79355.0</td>\n",
       "    </tr>\n",
       "    <tr>\n",
       "      <th>3</th>\n",
       "      <td>0.04</td>\n",
       "      <td>99560.0</td>\n",
       "      <td>79245.0</td>\n",
       "    </tr>\n",
       "    <tr>\n",
       "      <th>4</th>\n",
       "      <td>0.05</td>\n",
       "      <td>99450.0</td>\n",
       "      <td>79135.0</td>\n",
       "    </tr>\n",
       "    <tr>\n",
       "      <th>...</th>\n",
       "      <td>...</td>\n",
       "      <td>...</td>\n",
       "      <td>...</td>\n",
       "    </tr>\n",
       "    <tr>\n",
       "      <th>995</th>\n",
       "      <td>9.96</td>\n",
       "      <td>-9560.0</td>\n",
       "      <td>-29875.0</td>\n",
       "    </tr>\n",
       "    <tr>\n",
       "      <th>996</th>\n",
       "      <td>9.97</td>\n",
       "      <td>-9670.0</td>\n",
       "      <td>-29985.0</td>\n",
       "    </tr>\n",
       "    <tr>\n",
       "      <th>997</th>\n",
       "      <td>9.98</td>\n",
       "      <td>-9780.0</td>\n",
       "      <td>-30095.0</td>\n",
       "    </tr>\n",
       "    <tr>\n",
       "      <th>998</th>\n",
       "      <td>9.99</td>\n",
       "      <td>-9890.0</td>\n",
       "      <td>-30205.0</td>\n",
       "    </tr>\n",
       "    <tr>\n",
       "      <th>999</th>\n",
       "      <td>10.00</td>\n",
       "      <td>-10000.0</td>\n",
       "      <td>-30315.0</td>\n",
       "    </tr>\n",
       "  </tbody>\n",
       "</table>\n",
       "<p>1000 rows × 3 columns</p>\n",
       "</div>"
      ],
      "text/plain": [
       "     expense_percent     nisa  no_nisa\n",
       "0               0.01  99890.0  79575.0\n",
       "1               0.02  99780.0  79465.0\n",
       "2               0.03  99670.0  79355.0\n",
       "3               0.04  99560.0  79245.0\n",
       "4               0.05  99450.0  79135.0\n",
       "..               ...      ...      ...\n",
       "995             9.96  -9560.0 -29875.0\n",
       "996             9.97  -9670.0 -29985.0\n",
       "997             9.98  -9780.0 -30095.0\n",
       "998             9.99  -9890.0 -30205.0\n",
       "999            10.00 -10000.0 -30315.0\n",
       "\n",
       "[1000 rows x 3 columns]"
      ]
     },
     "execution_count": 121,
     "metadata": {},
     "output_type": "execute_result"
    }
   ],
   "source": [
    "df_profit_and_expense = pd.DataFrame(l_data, columns=l_label)\n",
    "df_profit_and_expense"
   ]
  },
  {
   "cell_type": "code",
   "execution_count": 137,
   "metadata": {},
   "outputs": [
    {
     "data": {
      "text/plain": [
       "<Figure size 1200x600 with 0 Axes>"
      ]
     },
     "metadata": {},
     "output_type": "display_data"
    },
    {
     "data": {
      "image/png": "[encoded data removed]",
      "text/plain": [
       "<Figure size 640x480 with 1 Axes>"
      ]
     },
     "metadata": {},
     "output_type": "display_data"
    }
   ],
   "source": [
    "plt.figure(figsize=(12, 6))\n",
    "fig = plt.figure()\n",
    "ax = fig.add_subplot()\n",
    "ax.plot(df_profit_and_expense['expense_percent'], df_profit_and_expense['no_nisa'])\n",
    "ax.plot(df_profit_and_expense['expense_percent'], df_profit_and_expense['nisa'])\n",
    "\n",
    "df_profit_and_expense['zero'] = 0\n",
    "ax.plot(df_profit_and_expense['expense_percent'], df_profit_and_expense['zero'])\n",
    "\n",
    "plt.xlabel('expence_percent')\n",
    "plt.ylabel('profit')\n",
    "plt.show()"
   ]
  }
 ],
 "metadata": {
  "kernelspec": {
   "display_name": ".venv",
   "language": "python",
   "name": "python3"
  },
  "language_info": {
   "codemirror_mode": {
    "name": "ipython",
    "version": 3
   },
   "file_extension": ".py",
   "mimetype": "text/x-python",
   "name": "python",
   "nbconvert_exporter": "python",
   "pygments_lexer": "ipython3",
   "version": "3.12.6"
  }
 },
 "nbformat": 4,
 "nbformat_minor": 2
}
