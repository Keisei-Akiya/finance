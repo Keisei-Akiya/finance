{
 "cells": [
  {
   "cell_type": "markdown",
   "metadata": {},
   "source": [
    "# VGK"
   ]
  },
  {
   "cell_type": "code",
   "execution_count": 1,
   "metadata": {},
   "outputs": [],
   "source": [
    "import pandas as pd\n",
    "import polars as pl\n",
    "import numpy as np\n",
    "import yfinance as yf"
   ]
  },
  {
   "cell_type": "code",
   "execution_count": 20,
   "metadata": {},
   "outputs": [
    {
     "data": {
      "text/html": [
       "<div><style>\n",
       ".dataframe > thead > tr,\n",
       ".dataframe > tbody > tr {\n",
       "  text-align: right;\n",
       "  white-space: pre-wrap;\n",
       "}\n",
       "</style>\n",
       "<small>shape: (5, 4)</small><table border=\"1\" class=\"dataframe\"><thead><tr><th>date</th><th>value</th><th>log_value</th><th>log_return</th></tr><tr><td>date</td><td>f64</td><td>f64</td><td>f64</td></tr></thead><tbody><tr><td>2005-04-01</td><td>23.385563</td><td>3.152119</td><td>null</td></tr><tr><td>2005-05-01</td><td>23.448645</td><td>3.154813</td><td>0.002694</td></tr><tr><td>2005-06-01</td><td>23.764082</td><td>3.168175</td><td>0.013363</td></tr><tr><td>2005-07-01</td><td>24.41921</td><td>3.19537</td><td>0.027195</td></tr><tr><td>2005-08-01</td><td>25.113163</td><td>3.223392</td><td>0.028022</td></tr></tbody></table></div>"
      ],
      "text/plain": [
       "shape: (5, 4)\n",
       "┌────────────┬───────────┬───────────┬────────────┐\n",
       "│ date       ┆ value     ┆ log_value ┆ log_return │\n",
       "│ ---        ┆ ---       ┆ ---       ┆ ---        │\n",
       "│ date       ┆ f64       ┆ f64       ┆ f64        │\n",
       "╞════════════╪═══════════╪═══════════╪════════════╡\n",
       "│ 2005-04-01 ┆ 23.385563 ┆ 3.152119  ┆ null       │\n",
       "│ 2005-05-01 ┆ 23.448645 ┆ 3.154813  ┆ 0.002694   │\n",
       "│ 2005-06-01 ┆ 23.764082 ┆ 3.168175  ┆ 0.013363   │\n",
       "│ 2005-07-01 ┆ 24.41921  ┆ 3.19537   ┆ 0.027195   │\n",
       "│ 2005-08-01 ┆ 25.113163 ┆ 3.223392  ┆ 0.028022   │\n",
       "└────────────┴───────────┴───────────┴────────────┘"
      ]
     },
     "execution_count": 20,
     "metadata": {},
     "output_type": "execute_result"
    }
   ],
   "source": [
    "ticker = yf.Ticker('VGK')\n",
    "historical_data = ticker.history(period='max', interval='1mo')\n",
    "df = pl.DataFrame({\n",
    "    'date': pl.Series(historical_data.index).cast(pl.Date),\n",
    "    'value': pl.Series(historical_data['Close']),\n",
    "})\n",
    "df = df.with_columns([\n",
    "    pl.col('value').log().alias('log_value'),\n",
    "])\n",
    "df = df.with_columns([\n",
    "    pl.col('log_value').diff().alias('log_return'),\n",
    "])\n",
    "\n",
    "df.head()"
   ]
  },
  {
   "cell_type": "code",
   "execution_count": 21,
   "metadata": {},
   "outputs": [
    {
     "name": "stdout",
     "output_type": "stream",
     "text": [
      "Volatility: 19.34%\n"
     ]
    }
   ],
   "source": [
    "vgk_vol = np.std(df['log_return'].drop_nulls().to_numpy()) * np.sqrt(12)\n",
    "print(f'Volatility: {vgk_vol:.2%}')"
   ]
  },
  {
   "cell_type": "code",
   "execution_count": null,
   "metadata": {},
   "outputs": [
    {
     "name": "stdout",
     "output_type": "stream",
     "text": [
      "Volatility: 16.32%\n"
     ]
    }
   ],
   "source": [
    "vpl_vol = np.std(df['log_return'].drop_nulls().to_numpy()) * np.sqrt(12)\n",
    "print(f'Volatility: {vpl_vol:.2%}')"
   ]
  }
 ],
 "metadata": {
  "kernelspec": {
   "display_name": ".venv",
   "language": "python",
   "name": "python3"
  },
  "language_info": {
   "codemirror_mode": {
    "name": "ipython",
    "version": 3
   },
   "file_extension": ".py",
   "mimetype": "text/x-python",
   "name": "python",
   "nbconvert_exporter": "python",
   "pygments_lexer": "ipython3",
   "version": "3.12.6"
  }
 },
 "nbformat": 4,
 "nbformat_minor": 2
}
