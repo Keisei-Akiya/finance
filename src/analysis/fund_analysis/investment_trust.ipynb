{
 "cells": [
  {
   "cell_type": "markdown",
   "metadata": {},
   "source": [
    "# 投資信託の評価"
   ]
  },
  {
   "cell_type": "code",
   "execution_count": 3,
   "metadata": {},
   "outputs": [],
   "source": [
    "import polars as pl\n",
    "import numpy as np\n",
    "import matplotlib.pyplot as plt\n",
    "import japanize_matplotlib\n",
    "import yfinance as yf"
   ]
  },
  {
   "cell_type": "code",
   "execution_count": null,
   "metadata": {},
   "outputs": [
    {
     "data": {
      "text/html": [
       "<div><style>\n",
       ".dataframe > thead > tr,\n",
       ".dataframe > tbody > tr {\n",
       "  text-align: right;\n",
       "  white-space: pre-wrap;\n",
       "}\n",
       "</style>\n",
       "<small>shape: (5, 6)</small><table border=\"1\" class=\"dataframe\"><thead><tr><th>isin_code</th><th>investment_trust_assosiation_japan_code</th><th>investment_name</th><th>date</th><th>nav</th><th>net_assets_million</th></tr><tr><td>str</td><td>str</td><td>str</td><td>date</td><td>i64</td><td>f64</td></tr></thead><tbody><tr><td>null</td><td>&quot;0431U169&quot;</td><td>&quot;ifree_emerging_markets_bond_in…</td><td>2016-09-08</td><td>10053</td><td>1.005303</td></tr><tr><td>null</td><td>&quot;0431U169&quot;</td><td>&quot;ifree_emerging_markets_bond_in…</td><td>2016-09-09</td><td>10089</td><td>1.008859</td></tr><tr><td>null</td><td>&quot;0431U169&quot;</td><td>&quot;ifree_emerging_markets_bond_in…</td><td>2016-09-12</td><td>9994</td><td>1.936575</td></tr><tr><td>null</td><td>&quot;0431U169&quot;</td><td>&quot;ifree_emerging_markets_bond_in…</td><td>2016-09-13</td><td>9893</td><td>2.309483</td></tr><tr><td>null</td><td>&quot;0431U169&quot;</td><td>&quot;ifree_emerging_markets_bond_in…</td><td>2016-09-14</td><td>9912</td><td>2.98453</td></tr></tbody></table></div>"
      ],
      "text/plain": [
       "shape: (5, 6)\n",
       "┌───────────┬──────────────────────┬─────────────────────┬────────────┬───────┬────────────────────┐\n",
       "│ isin_code ┆ investment_trust_ass ┆ investment_name     ┆ date       ┆ nav   ┆ net_assets_million │\n",
       "│ ---       ┆ osiation_j…          ┆ ---                 ┆ ---        ┆ ---   ┆ ---                │\n",
       "│ str       ┆ ---                  ┆ str                 ┆ date       ┆ i64   ┆ f64                │\n",
       "│           ┆ str                  ┆                     ┆            ┆       ┆                    │\n",
       "╞═══════════╪══════════════════════╪═════════════════════╪════════════╪═══════╪════════════════════╡\n",
       "│ null      ┆ 0431U169             ┆ ifree_emerging_mark ┆ 2016-09-08 ┆ 10053 ┆ 1.005303           │\n",
       "│           ┆                      ┆ ets_bond_in…        ┆            ┆       ┆                    │\n",
       "│ null      ┆ 0431U169             ┆ ifree_emerging_mark ┆ 2016-09-09 ┆ 10089 ┆ 1.008859           │\n",
       "│           ┆                      ┆ ets_bond_in…        ┆            ┆       ┆                    │\n",
       "│ null      ┆ 0431U169             ┆ ifree_emerging_mark ┆ 2016-09-12 ┆ 9994  ┆ 1.936575           │\n",
       "│           ┆                      ┆ ets_bond_in…        ┆            ┆       ┆                    │\n",
       "│ null      ┆ 0431U169             ┆ ifree_emerging_mark ┆ 2016-09-13 ┆ 9893  ┆ 2.309483           │\n",
       "│           ┆                      ┆ ets_bond_in…        ┆            ┆       ┆                    │\n",
       "│ null      ┆ 0431U169             ┆ ifree_emerging_mark ┆ 2016-09-14 ┆ 9912  ┆ 2.98453            │\n",
       "│           ┆                      ┆ ets_bond_in…        ┆            ┆       ┆                    │\n",
       "└───────────┴──────────────────────┴─────────────────────┴────────────┴───────┴────────────────────┘"
      ]
     },
     "execution_count": 5,
     "metadata": {},
     "output_type": "execute_result"
    }
   ],
   "source": [
    "# データの読み込み\n",
    "path = '../../../../data/raw/investment_trust.parquet'\n",
    "df = pl.read_parquet(path)\n",
    "df.head()"
   ]
  },
  {
   "cell_type": "code",
   "execution_count": null,
   "metadata": {},
   "outputs": [
    {
     "data": {
      "text/html": [
       "<div><style>\n",
       ".dataframe > thead > tr,\n",
       ".dataframe > tbody > tr {\n",
       "  text-align: right;\n",
       "  white-space: pre-wrap;\n",
       "}\n",
       "</style>\n",
       "<small>shape: (9, 2)</small><table border=\"1\" class=\"dataframe\"><thead><tr><th>investment_trust_assosiation_japan_code</th><th>investment_name</th></tr><tr><td>str</td><td>str</td></tr></thead><tbody><tr><td>&quot;3312184&quot;</td><td>&quot;emaxis_slim_all_country_3_regi…</td></tr><tr><td>&quot;0331A172&quot;</td><td>&quot;emaxis_slim_developed_governme…</td></tr><tr><td>&quot;3312175&quot;</td><td>&quot;emaxis_slim_balance_8_asset_eq…</td></tr><tr><td>&quot;0431U169&quot;</td><td>&quot;ifree_emerging_markets_bond_in…</td></tr><tr><td>&quot;89311216&quot;</td><td>&quot;sbi_v_us_equity_index_fund&quot;</td></tr><tr><td>&quot;8931117C&quot;</td><td>&quot;sbi_emerging_markets_equity_in…</td></tr><tr><td>&quot;0331C177&quot;</td><td>&quot;emaxis_slim_emerging_markets_e…</td></tr><tr><td>&quot;0331418A&quot;</td><td>&quot;emaxis_slim_all_world_equity_a…</td></tr><tr><td>&quot;3311187&quot;</td><td>&quot;emaxis_slim_us_equity_sp500&quot;</td></tr></tbody></table></div>"
      ],
      "text/plain": [
       "shape: (9, 2)\n",
       "┌─────────────────────────────────┬─────────────────────────────────┐\n",
       "│ investment_trust_assosiation_j… ┆ investment_name                 │\n",
       "│ ---                             ┆ ---                             │\n",
       "│ str                             ┆ str                             │\n",
       "╞═════════════════════════════════╪═════════════════════════════════╡\n",
       "│ 3312184                         ┆ emaxis_slim_all_country_3_regi… │\n",
       "│ 0331A172                        ┆ emaxis_slim_developed_governme… │\n",
       "│ 3312175                         ┆ emaxis_slim_balance_8_asset_eq… │\n",
       "│ 0431U169                        ┆ ifree_emerging_markets_bond_in… │\n",
       "│ 89311216                        ┆ sbi_v_us_equity_index_fund      │\n",
       "│ 8931117C                        ┆ sbi_emerging_markets_equity_in… │\n",
       "│ 0331C177                        ┆ emaxis_slim_emerging_markets_e… │\n",
       "│ 0331418A                        ┆ emaxis_slim_all_world_equity_a… │\n",
       "│ 3311187                         ┆ emaxis_slim_us_equity_sp500     │\n",
       "└─────────────────────────────────┴─────────────────────────────────┘"
      ]
     },
     "execution_count": 10,
     "metadata": {},
     "output_type": "execute_result"
    }
   ],
   "source": [
    "# 銘柄名，コードの確認\n",
    "df[['investment_trust_association_japan_code', 'investment_name']].unique()"
   ]
  },
  {
   "cell_type": "markdown",
   "metadata": {},
   "source": [
    "## オルカン"
   ]
  },
  {
   "cell_type": "code",
   "execution_count": 12,
   "metadata": {},
   "outputs": [
    {
     "data": {
      "text/html": [
       "<div><style>\n",
       ".dataframe > thead > tr,\n",
       ".dataframe > tbody > tr {\n",
       "  text-align: right;\n",
       "  white-space: pre-wrap;\n",
       "}\n",
       "</style>\n",
       "<small>shape: (5, 6)</small><table border=\"1\" class=\"dataframe\"><thead><tr><th>isin_code</th><th>investment_trust_assosiation_japan_code</th><th>investment_name</th><th>date</th><th>nav</th><th>net_assets_million</th></tr><tr><td>str</td><td>str</td><td>str</td><td>date</td><td>i64</td><td>f64</td></tr></thead><tbody><tr><td>&quot;JP90C000H1T1&quot;</td><td>&quot;0331418A&quot;</td><td>&quot;emaxis_slim_all_world_equity_a…</td><td>2018-10-31</td><td>10000</td><td>10.0</td></tr><tr><td>&quot;JP90C000H1T1&quot;</td><td>&quot;0331418A&quot;</td><td>&quot;emaxis_slim_all_world_equity_a…</td><td>2018-11-01</td><td>10077</td><td>10.0</td></tr><tr><td>&quot;JP90C000H1T1&quot;</td><td>&quot;0331418A&quot;</td><td>&quot;emaxis_slim_all_world_equity_a…</td><td>2018-11-02</td><td>10209</td><td>11.0</td></tr><tr><td>&quot;JP90C000H1T1&quot;</td><td>&quot;0331418A&quot;</td><td>&quot;emaxis_slim_all_world_equity_a…</td><td>2018-11-05</td><td>10228</td><td>35.0</td></tr><tr><td>&quot;JP90C000H1T1&quot;</td><td>&quot;0331418A&quot;</td><td>&quot;emaxis_slim_all_world_equity_a…</td><td>2018-11-06</td><td>10259</td><td>86.0</td></tr></tbody></table></div>"
      ],
      "text/plain": [
       "shape: (5, 6)\n",
       "┌──────────────┬────────────────────┬────────────────────┬────────────┬───────┬────────────────────┐\n",
       "│ isin_code    ┆ investment_trust_a ┆ investment_name    ┆ date       ┆ nav   ┆ net_assets_million │\n",
       "│ ---          ┆ ssosiation_j…      ┆ ---                ┆ ---        ┆ ---   ┆ ---                │\n",
       "│ str          ┆ ---                ┆ str                ┆ date       ┆ i64   ┆ f64                │\n",
       "│              ┆ str                ┆                    ┆            ┆       ┆                    │\n",
       "╞══════════════╪════════════════════╪════════════════════╪════════════╪═══════╪════════════════════╡\n",
       "│ JP90C000H1T1 ┆ 0331418A           ┆ emaxis_slim_all_wo ┆ 2018-10-31 ┆ 10000 ┆ 10.0               │\n",
       "│              ┆                    ┆ rld_equity_a…      ┆            ┆       ┆                    │\n",
       "│ JP90C000H1T1 ┆ 0331418A           ┆ emaxis_slim_all_wo ┆ 2018-11-01 ┆ 10077 ┆ 10.0               │\n",
       "│              ┆                    ┆ rld_equity_a…      ┆            ┆       ┆                    │\n",
       "│ JP90C000H1T1 ┆ 0331418A           ┆ emaxis_slim_all_wo ┆ 2018-11-02 ┆ 10209 ┆ 11.0               │\n",
       "│              ┆                    ┆ rld_equity_a…      ┆            ┆       ┆                    │\n",
       "│ JP90C000H1T1 ┆ 0331418A           ┆ emaxis_slim_all_wo ┆ 2018-11-05 ┆ 10228 ┆ 35.0               │\n",
       "│              ┆                    ┆ rld_equity_a…      ┆            ┆       ┆                    │\n",
       "│ JP90C000H1T1 ┆ 0331418A           ┆ emaxis_slim_all_wo ┆ 2018-11-06 ┆ 10259 ┆ 86.0               │\n",
       "│              ┆                    ┆ rld_equity_a…      ┆            ┆       ┆                    │\n",
       "└──────────────┴────────────────────┴────────────────────┴────────────┴───────┴────────────────────┘"
      ]
     },
     "execution_count": 12,
     "metadata": {},
     "output_type": "execute_result"
    }
   ],
   "source": [
    "all_country = df.filter(pl.col('investment_trust_assosiation_japan_code') == '0331418A')\n",
    "all_country.head()"
   ]
  },
  {
   "cell_type": "code",
   "execution_count": null,
   "metadata": {},
   "outputs": [],
   "source": []
  }
 ],
 "metadata": {
  "kernelspec": {
   "display_name": ".venv",
   "language": "python",
   "name": "python3"
  },
  "language_info": {
   "codemirror_mode": {
    "name": "ipython",
    "version": 3
   },
   "file_extension": ".py",
   "mimetype": "text/x-python",
   "name": "python",
   "nbconvert_exporter": "python",
   "pygments_lexer": "ipython3",
   "version": "3.12.6"
  }
 },
 "nbformat": 4,
 "nbformat_minor": 2
}
