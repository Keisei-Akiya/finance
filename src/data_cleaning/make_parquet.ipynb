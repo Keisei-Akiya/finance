{
 "cells": [
  {
   "cell_type": "markdown",
   "metadata": {},
   "source": [
    "# parquet"
   ]
  },
  {
   "cell_type": "code",
   "execution_count": 45,
   "metadata": {},
   "outputs": [],
   "source": [
    "import polars as pl\n",
    "\n",
    "filepath = '../../../data/row/ifree_em_bonds.csv'\n",
    "em_bonds = pl.read_csv(filepath)\n",
    "em_bonds = em_bonds.with_columns([\n",
    "    (pl.col('date').str.strptime(pl.Date, format='%m/%d/%Y')),\n",
    "    (pl.col('ifree_em_bond_nav').cast(pl.Float32)),\n",
    "    (pl.col('ifree_em_bond_net_assets').str.replace_all(',', '').str.replace_all(' ', '').cast(pl.Float64)),\n",
    "])\n",
    "\n",
    "filepath = '../../../data/row/emaxis_slim_dev_bond.csv'\n",
    "dev_bonds = pl.read_csv(filepath)\n",
    "dev_bonds = dev_bonds.with_columns([\n",
    "    (pl.col('date').str.strptime(pl.Date, format='%m/%d/%Y')),\n",
    "    (pl.col('emaxis_slim_dev_bond_nav').cast(pl.Float32)),\n",
    "    (pl.col('emaxis_slim_dev_bond_net_assets').str.replace_all(',', '').str.replace_all(' ', '').cast(pl.Float64)),\n",
    "])\n",
    "\n",
    "filepath = '../../../data/row/investment_trust.csv'\n",
    "investment_trust = pl.read_csv(filepath)\n",
    "investment_trust = investment_trust.with_columns([\n",
    "    (pl.col('date').str.strptime(pl.Date, format='%m/%d/%Y')),\n",
    "    (pl.col('sbi_em_stock_nav').cast(pl.Float32)),\n",
    "    (pl.col('sbi_em_stock_net_assets').str.replace_all(',', '').str.replace_all(' ', '').cast(pl.Float64)),\n",
    "    (pl.col('sbi_vti_nav').cast(pl.Float32)),\n",
    "    (pl.col('sbi_vti_net_assets').str.replace_all(',', '').str.replace_all(' ', '').cast(pl.Float64)),\n",
    "])"
   ]
  },
  {
   "cell_type": "code",
   "execution_count": 46,
   "metadata": {},
   "outputs": [
    {
     "data": {
      "text/html": [
       "<div><style>\n",
       ".dataframe > thead > tr,\n",
       ".dataframe > tbody > tr {\n",
       "  text-align: right;\n",
       "  white-space: pre-wrap;\n",
       "}\n",
       "</style>\n",
       "<small>shape: (5, 9)</small><table border=\"1\" class=\"dataframe\"><thead><tr><th>date</th><th>ifree_em_bond_nav</th><th>ifree_em_bond_net_assets</th><th>sbi_em_stock_nav</th><th>sbi_em_stock_net_assets</th><th>sbi_vti_nav</th><th>sbi_vti_net_assets</th><th>emaxis_slim_dev_bond_nav</th><th>emaxis_slim_dev_bond_net_assets</th></tr><tr><td>date</td><td>f32</td><td>f64</td><td>f32</td><td>f64</td><td>f32</td><td>f64</td><td>f32</td><td>f64</td></tr></thead><tbody><tr><td>2016-09-08</td><td>10053.0</td><td>1.005303e6</td><td>null</td><td>null</td><td>null</td><td>null</td><td>null</td><td>null</td></tr><tr><td>2016-09-09</td><td>10089.0</td><td>1.008859e6</td><td>null</td><td>null</td><td>null</td><td>null</td><td>null</td><td>null</td></tr><tr><td>2016-09-12</td><td>9994.0</td><td>1.936575e6</td><td>null</td><td>null</td><td>null</td><td>null</td><td>null</td><td>null</td></tr><tr><td>2016-09-13</td><td>9893.0</td><td>2.309483e6</td><td>null</td><td>null</td><td>null</td><td>null</td><td>null</td><td>null</td></tr><tr><td>2016-09-14</td><td>9912.0</td><td>2.98453e6</td><td>null</td><td>null</td><td>null</td><td>null</td><td>null</td><td>null</td></tr></tbody></table></div>"
      ],
      "text/plain": [
       "shape: (5, 9)\n",
       "┌───────────┬───────────┬───────────┬───────────┬───┬───────────┬───────────┬───────────┬──────────┐\n",
       "│ date      ┆ ifree_em_ ┆ ifree_em_ ┆ sbi_em_st ┆ … ┆ sbi_vti_n ┆ sbi_vti_n ┆ emaxis_sl ┆ emaxis_s │\n",
       "│ ---       ┆ bond_nav  ┆ bond_net_ ┆ ock_nav   ┆   ┆ av        ┆ et_assets ┆ im_dev_bo ┆ lim_dev_ │\n",
       "│ date      ┆ ---       ┆ assets    ┆ ---       ┆   ┆ ---       ┆ ---       ┆ nd_nav    ┆ bond_net │\n",
       "│           ┆ f32       ┆ ---       ┆ f32       ┆   ┆ f32       ┆ f64       ┆ ---       ┆ _asset…  │\n",
       "│           ┆           ┆ f64       ┆           ┆   ┆           ┆           ┆ f32       ┆ ---      │\n",
       "│           ┆           ┆           ┆           ┆   ┆           ┆           ┆           ┆ f64      │\n",
       "╞═══════════╪═══════════╪═══════════╪═══════════╪═══╪═══════════╪═══════════╪═══════════╪══════════╡\n",
       "│ 2016-09-0 ┆ 10053.0   ┆ 1.005303e ┆ null      ┆ … ┆ null      ┆ null      ┆ null      ┆ null     │\n",
       "│ 8         ┆           ┆ 6         ┆           ┆   ┆           ┆           ┆           ┆          │\n",
       "│ 2016-09-0 ┆ 10089.0   ┆ 1.008859e ┆ null      ┆ … ┆ null      ┆ null      ┆ null      ┆ null     │\n",
       "│ 9         ┆           ┆ 6         ┆           ┆   ┆           ┆           ┆           ┆          │\n",
       "│ 2016-09-1 ┆ 9994.0    ┆ 1.936575e ┆ null      ┆ … ┆ null      ┆ null      ┆ null      ┆ null     │\n",
       "│ 2         ┆           ┆ 6         ┆           ┆   ┆           ┆           ┆           ┆          │\n",
       "│ 2016-09-1 ┆ 9893.0    ┆ 2.309483e ┆ null      ┆ … ┆ null      ┆ null      ┆ null      ┆ null     │\n",
       "│ 3         ┆           ┆ 6         ┆           ┆   ┆           ┆           ┆           ┆          │\n",
       "│ 2016-09-1 ┆ 9912.0    ┆ 2.98453e6 ┆ null      ┆ … ┆ null      ┆ null      ┆ null      ┆ null     │\n",
       "│ 4         ┆           ┆           ┆           ┆   ┆           ┆           ┆           ┆          │\n",
       "└───────────┴───────────┴───────────┴───────────┴───┴───────────┴───────────┴───────────┴──────────┘"
      ]
     },
     "execution_count": 46,
     "metadata": {},
     "output_type": "execute_result"
    }
   ],
   "source": [
    "investment_trust = em_bonds.join(investment_trust, on='date', how='left').join(dev_bonds, on='date', how='left')\n",
    "investment_trust.head()"
   ]
  },
  {
   "cell_type": "code",
   "execution_count": 47,
   "metadata": {},
   "outputs": [],
   "source": [
    "investment_trust.write_parquet('../../../data/row/investment_trust.parquet')"
   ]
  },
  {
   "cell_type": "code",
   "execution_count": 48,
   "metadata": {},
   "outputs": [],
   "source": [
    "investment_trust = pl.read_parquet('../../../data/row/investment_trust.parquet')"
   ]
  }
 ],
 "metadata": {
  "kernelspec": {
   "display_name": ".venv",
   "language": "python",
   "name": "python3"
  },
  "language_info": {
   "codemirror_mode": {
    "name": "ipython",
    "version": 3
   },
   "file_extension": ".py",
   "mimetype": "text/x-python",
   "name": "python",
   "nbconvert_exporter": "python",
   "pygments_lexer": "ipython3",
   "version": "3.12.6"
  }
 },
 "nbformat": 4,
 "nbformat_minor": 2
}
