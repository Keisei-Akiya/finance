{
 "cells": [
  {
   "cell_type": "markdown",
   "metadata": {},
   "source": [
    "# Portfolio"
   ]
  },
  {
   "cell_type": "code",
   "execution_count": 69,
   "metadata": {},
   "outputs": [],
   "source": [
    "import polars as pl\n",
    "import numpy as np\n",
    "import matplotlib.pyplot as plt\n",
    "import japanize_matplotlib\n",
    "import yfinance as yf\n"
   ]
  },
  {
   "cell_type": "code",
   "execution_count": 65,
   "metadata": {},
   "outputs": [
    {
     "name": "stdout",
     "output_type": "stream",
     "text": [
      "Portfolio return: 8.78\n",
      "Portfolio volatility (corr none): 10.96\n",
      "Sharp ratio: 0.80\n"
     ]
    }
   ],
   "source": [
    "stock_return = 8.329\n",
    "stock_volatility = 12.79\n",
    "\n",
    "bond_return = 7.48\n",
    "bond_volatility = 5.78\n",
    "\n",
    "reit_return = 6.43\n",
    "reit_volatility = 19.46\n",
    "\n",
    "gold_return = 16.08\n",
    "gold_volatility = 17.26\n",
    "\n",
    "# risk parity\n",
    "sum_inv_vol = 1/stock_volatility + 1/bond_volatility + 1/reit_volatility + 1/gold_volatility\n",
    "\n",
    "weights = np.array([\n",
    "    (1/stock_volatility) / sum_inv_vol,\n",
    "    (1/bond_volatility) / sum_inv_vol,\n",
    "    (1/reit_volatility) / sum_inv_vol,\n",
    "    (1/gold_volatility) / sum_inv_vol\n",
    "])\n",
    "weights.round(4)\n",
    "weights = np.array([0.2, 0.5, 0.15, 0.15])\n",
    "# weights = np.array([0.25, 0.25, 0.25, 0.25])\n",
    "\n",
    "returns = np.array([stock_return, bond_return, reit_return, gold_return])\n",
    "portfolio_return = np.sum(returns * weights)\n",
    "print(f\"Portfolio return: {portfolio_return:.2f}\")\n",
    "\n",
    "volatililties = np.array([stock_volatility, bond_volatility, reit_volatility, gold_volatility])\n",
    "portfolio_volatility_corr_none = np.sqrt(np.sum(weights * volatililties)**2)\n",
    "print(f\"Portfolio volatility (corr none): {portfolio_volatility_corr_none:.2f}\")\n",
    "\n",
    "rf = 0\n",
    "sharp_ratio = (portfolio_return - rf) / portfolio_volatility_corr_none\n",
    "print(f\"Sharp ratio: {sharp_ratio:.2f}\")\n"
   ]
  },
  {
   "cell_type": "markdown",
   "metadata": {},
   "source": [
    "## データの準備"
   ]
  },
  {
   "cell_type": "code",
   "execution_count": 33,
   "metadata": {},
   "outputs": [
    {
     "name": "stderr",
     "output_type": "stream",
     "text": [
      "[*********************100%***********************]  12 of 12 completed\n"
     ]
    },
    {
     "data": {
      "text/html": [
       "<div><style>\n",
       ".dataframe > thead > tr,\n",
       ".dataframe > tbody > tr {\n",
       "  text-align: right;\n",
       "  white-space: pre-wrap;\n",
       "}\n",
       "</style>\n",
       "<small>shape: (5, 11)</small><table border=\"1\" class=\"dataframe\"><thead><tr><th>date</th><th>stock_us</th><th>stock_eu</th><th>stock_ap</th><th>stock_em</th><th>bond_au</th><th>bond_sg</th><th>bond_d_em</th><th>reit_us</th><th>reit_ex_us</th><th>gold</th></tr><tr><td>date</td><td>f64</td><td>f64</td><td>f64</td><td>f64</td><td>f64</td><td>f64</td><td>f64</td><td>f64</td><td>f64</td><td>f64</td></tr></thead><tbody><tr><td>2022-02-28</td><td>-0.000963</td><td>-0.023977</td><td>-0.007266</td><td>-0.011315</td><td>0.0</td><td>-0.000237</td><td>-0.00627</td><td>-0.016555</td><td>-0.009462</td><td>0.010433</td></tr><tr><td>2022-03-31</td><td>-0.02422</td><td>-0.028879</td><td>-0.020687</td><td>-0.025348</td><td>-0.003233</td><td>-0.002831</td><td>-0.00054</td><td>-0.019577</td><td>-0.019252</td><td>-0.008619</td></tr><tr><td>2022-06-30</td><td>-0.004681</td><td>-0.001876</td><td>0.000831</td><td>-0.000336</td><td>0.004955</td><td>0.000163</td><td>-0.004381</td><td>0.002021</td><td>-0.006662</td><td>-0.00212</td></tr><tr><td>2022-08-31</td><td>-0.006381</td><td>-0.007735</td><td>-0.000562</td><td>0.002455</td><td>0.0</td><td>0.001089</td><td>-0.005288</td><td>-0.003028</td><td>-0.009429</td><td>-0.00676</td></tr><tr><td>2022-09-30</td><td>-0.01344</td><td>0.001529</td><td>-0.011024</td><td>-0.001141</td><td>0.010678</td><td>0.006801</td><td>-0.004254</td><td>0.009855</td><td>0.023071</td><td>0.000293</td></tr></tbody></table></div>"
      ],
      "text/plain": [
       "shape: (5, 11)\n",
       "┌───────────┬───────────┬───────────┬───────────┬───┬───────────┬───────────┬───────────┬──────────┐\n",
       "│ date      ┆ stock_us  ┆ stock_eu  ┆ stock_ap  ┆ … ┆ bond_d_em ┆ reit_us   ┆ reit_ex_u ┆ gold     │\n",
       "│ ---       ┆ ---       ┆ ---       ┆ ---       ┆   ┆ ---       ┆ ---       ┆ s         ┆ ---      │\n",
       "│ date      ┆ f64       ┆ f64       ┆ f64       ┆   ┆ f64       ┆ f64       ┆ ---       ┆ f64      │\n",
       "│           ┆           ┆           ┆           ┆   ┆           ┆           ┆ f64       ┆          │\n",
       "╞═══════════╪═══════════╪═══════════╪═══════════╪═══╪═══════════╪═══════════╪═══════════╪══════════╡\n",
       "│ 2022-02-2 ┆ -0.000963 ┆ -0.023977 ┆ -0.007266 ┆ … ┆ -0.00627  ┆ -0.016555 ┆ -0.009462 ┆ 0.010433 │\n",
       "│ 8         ┆           ┆           ┆           ┆   ┆           ┆           ┆           ┆          │\n",
       "│ 2022-03-3 ┆ -0.02422  ┆ -0.028879 ┆ -0.020687 ┆ … ┆ -0.00054  ┆ -0.019577 ┆ -0.019252 ┆ -0.00861 │\n",
       "│ 1         ┆           ┆           ┆           ┆   ┆           ┆           ┆           ┆ 9        │\n",
       "│ 2022-06-3 ┆ -0.004681 ┆ -0.001876 ┆ 0.000831  ┆ … ┆ -0.004381 ┆ 0.002021  ┆ -0.006662 ┆ -0.00212 │\n",
       "│ 0         ┆           ┆           ┆           ┆   ┆           ┆           ┆           ┆          │\n",
       "│ 2022-08-3 ┆ -0.006381 ┆ -0.007735 ┆ -0.000562 ┆ … ┆ -0.005288 ┆ -0.003028 ┆ -0.009429 ┆ -0.00676 │\n",
       "│ 1         ┆           ┆           ┆           ┆   ┆           ┆           ┆           ┆          │\n",
       "│ 2022-09-3 ┆ -0.01344  ┆ 0.001529  ┆ -0.011024 ┆ … ┆ -0.004254 ┆ 0.009855  ┆ 0.023071  ┆ 0.000293 │\n",
       "│ 0         ┆           ┆           ┆           ┆   ┆           ┆           ┆           ┆          │\n",
       "└───────────┴───────────┴───────────┴───────────┴───┴───────────┴───────────┴───────────┴──────────┘"
      ]
     },
     "execution_count": 33,
     "metadata": {},
     "output_type": "execute_result"
    }
   ],
   "source": [
    "# stock\n",
    "# yfinance etf\n",
    "tickers = yf.Tickers('VTI VGK VPL VWO 2844.T A35.SI 2519.T IYR IFGL GLD JPY=X SGDJPY=X')\n",
    "historical_data = tickers.history(period='max', interval='1d')\n",
    "historical_data.reset_index(inplace=True)\n",
    "etf = pl.DataFrame({\n",
    "    'date': pl.Series(historical_data['Date']).cast(pl.Date),\n",
    "    'stock_us': pl.Series(historical_data['Close']['VTI'] * historical_data['Close']['JPY=X']).log().diff(),\n",
    "    'stock_eu': pl.Series(historical_data['Close']['VGK'] * historical_data['Close']['JPY=X']).log().diff(),\n",
    "    'stock_ap': pl.Series(historical_data['Close']['VPL'] * historical_data['Close']['JPY=X']).log().diff(),\n",
    "    'stock_em': pl.Series(historical_data['Close']['VWO'] * historical_data['Close']['JPY=X']).log().diff(),\n",
    "    'bond_au': pl.Series(historical_data['Close']['2844.T']).log().diff(),\n",
    "    'bond_sg': pl.Series(historical_data['Close']['A35.SI'] * historical_data['Close']['SGDJPY=X']).log().diff(),\n",
    "    'bond_d_em': pl.Series(historical_data['Close']['2519.T']).log().diff(),\n",
    "    'reit_us': pl.Series(historical_data['Close']['IYR'] * historical_data['Close']['JPY=X']).log().diff(),\n",
    "    'reit_ex_us': pl.Series(historical_data['Close']['IFGL'] * historical_data['Close']['JPY=X']).log().diff(),\n",
    "    'gold': pl.Series(historical_data['Close']['GLD'] * historical_data['Close']['JPY=X']).log().diff(),\n",
    "}).drop_nulls()\n",
    "month_end = etf['date'].dt.month_end().unique()\n",
    "etf = etf.filter(pl.col('date').is_in(month_end))\n",
    "\n",
    "etf.head()"
   ]
  },
  {
   "cell_type": "code",
   "execution_count": null,
   "metadata": {},
   "outputs": [
    {
     "data": {
      "text/html": [
       "<div><style>\n",
       ".dataframe > thead > tr,\n",
       ".dataframe > tbody > tr {\n",
       "  text-align: right;\n",
       "  white-space: pre-wrap;\n",
       "}\n",
       "</style>\n",
       "<small>shape: (5, 13)</small><table border=\"1\" class=\"dataframe\"><thead><tr><th>date</th><th>stock_us</th><th>stock_eu</th><th>stock_ap</th><th>stock_em</th><th>bond_au</th><th>bond_sg</th><th>bond_d_em</th><th>reit_us</th><th>reit_ex_us</th><th>gold</th><th>bond_dev</th><th>bond_l_em</th></tr><tr><td>date</td><td>f64</td><td>f64</td><td>f64</td><td>f64</td><td>f64</td><td>f64</td><td>f64</td><td>f64</td><td>f64</td><td>f64</td><td>f64</td><td>f64</td></tr></thead><tbody><tr><td>2022-02-28</td><td>-0.000963</td><td>-0.023977</td><td>-0.007266</td><td>-0.011315</td><td>0.0</td><td>-0.000237</td><td>-0.00627</td><td>-0.016555</td><td>-0.009462</td><td>0.010433</td><td>-0.002435</td><td>-0.005238</td></tr><tr><td>2022-03-31</td><td>-0.02422</td><td>-0.028879</td><td>-0.020687</td><td>-0.025348</td><td>-0.003233</td><td>-0.002831</td><td>-0.00054</td><td>-0.019577</td><td>-0.019252</td><td>-0.008619</td><td>0.003293</td><td>0.004746</td></tr><tr><td>2022-06-30</td><td>-0.004681</td><td>-0.001876</td><td>0.000831</td><td>-0.000336</td><td>0.004955</td><td>0.000163</td><td>-0.004381</td><td>0.002021</td><td>-0.006662</td><td>-0.00212</td><td>0.00822</td><td>0.003524</td></tr><tr><td>2022-08-31</td><td>-0.006381</td><td>-0.007735</td><td>-0.000562</td><td>0.002455</td><td>0.0</td><td>0.001089</td><td>-0.005288</td><td>-0.003028</td><td>-0.009429</td><td>-0.00676</td><td>-0.000083</td><td>-0.001238</td></tr><tr><td>2022-09-30</td><td>-0.01344</td><td>0.001529</td><td>-0.011024</td><td>-0.001141</td><td>0.010678</td><td>0.006801</td><td>-0.004254</td><td>0.009855</td><td>0.023071</td><td>0.000293</td><td>0.006649</td><td>0.001921</td></tr></tbody></table></div>"
      ],
      "text/plain": [
       "shape: (5, 13)\n",
       "┌───────────┬───────────┬───────────┬───────────┬───┬───────────┬───────────┬───────────┬──────────┐\n",
       "│ date      ┆ stock_us  ┆ stock_eu  ┆ stock_ap  ┆ … ┆ reit_ex_u ┆ gold      ┆ bond_dev  ┆ bond_l_e │\n",
       "│ ---       ┆ ---       ┆ ---       ┆ ---       ┆   ┆ s         ┆ ---       ┆ ---       ┆ m        │\n",
       "│ date      ┆ f64       ┆ f64       ┆ f64       ┆   ┆ ---       ┆ f64       ┆ f64       ┆ ---      │\n",
       "│           ┆           ┆           ┆           ┆   ┆ f64       ┆           ┆           ┆ f64      │\n",
       "╞═══════════╪═══════════╪═══════════╪═══════════╪═══╪═══════════╪═══════════╪═══════════╪══════════╡\n",
       "│ 2022-02-2 ┆ -0.000963 ┆ -0.023977 ┆ -0.007266 ┆ … ┆ -0.009462 ┆ 0.010433  ┆ -0.002435 ┆ -0.00523 │\n",
       "│ 8         ┆           ┆           ┆           ┆   ┆           ┆           ┆           ┆ 8        │\n",
       "│ 2022-03-3 ┆ -0.02422  ┆ -0.028879 ┆ -0.020687 ┆ … ┆ -0.019252 ┆ -0.008619 ┆ 0.003293  ┆ 0.004746 │\n",
       "│ 1         ┆           ┆           ┆           ┆   ┆           ┆           ┆           ┆          │\n",
       "│ 2022-06-3 ┆ -0.004681 ┆ -0.001876 ┆ 0.000831  ┆ … ┆ -0.006662 ┆ -0.00212  ┆ 0.00822   ┆ 0.003524 │\n",
       "│ 0         ┆           ┆           ┆           ┆   ┆           ┆           ┆           ┆          │\n",
       "│ 2022-08-3 ┆ -0.006381 ┆ -0.007735 ┆ -0.000562 ┆ … ┆ -0.009429 ┆ -0.00676  ┆ -0.000083 ┆ -0.00123 │\n",
       "│ 1         ┆           ┆           ┆           ┆   ┆           ┆           ┆           ┆ 8        │\n",
       "│ 2022-09-3 ┆ -0.01344  ┆ 0.001529  ┆ -0.011024 ┆ … ┆ 0.023071  ┆ 0.000293  ┆ 0.006649  ┆ 0.001921 │\n",
       "│ 0         ┆           ┆           ┆           ┆   ┆           ┆           ┆           ┆          │\n",
       "└───────────┴───────────┴───────────┴───────────┴───┴───────────┴───────────┴───────────┴──────────┘"
      ]
     },
     "execution_count": 41,
     "metadata": {},
     "output_type": "execute_result"
    }
   ],
   "source": [
    "# investment trust\n",
    "investment_trust = pl.read_parquet('../../../../data/raw/investment_trust.parquet')\n",
    "bond_dev = investment_trust.filter(\n",
    "    pl.col('investment_trust_association_japan_code') == '0331A172'\n",
    ")\n",
    "bond_dev = pl.DataFrame({\n",
    "    'date': pl.Series(bond_dev['date']).cast(pl.Date),\n",
    "    'bond_dev': pl.Series(bond_dev['nav']).log().diff(),\n",
    "}).drop_nulls()\n",
    "\n",
    "bond_l_em = investment_trust.filter(\n",
    "    pl.col('investment_trust_association_japan_code') == '0431U169'\n",
    ")\n",
    "bond_l_em = pl.DataFrame({\n",
    "    'date': pl.Series(bond_l_em['date']).cast(pl.Date),\n",
    "    'bond_l_em': pl.Series(bond_l_em['nav']).log().diff(),\n",
    "}).drop_nulls()\n",
    "\n",
    "df = etf.join(bond_dev, on='date', how='inner').join(bond_l_em, on='date', how='inner')"
   ]
  },
  {
   "cell_type": "markdown",
   "metadata": {},
   "source": [
    "# risk parity"
   ]
  },
  {
   "cell_type": "code",
   "execution_count": 66,
   "metadata": {},
   "outputs": [
    {
     "name": "stdout",
     "output_type": "stream",
     "text": [
      "sum of weights: 1.0\n",
      "Portfolio volatility: 2.56%\n",
      "Sharp ratio: 342.52\n"
     ]
    }
   ],
   "source": [
    "weights = np.array([\n",
    "    # stock\n",
    "    0.06, 0.06, 0.03, 0.05,\n",
    "    # bond\n",
    "    0.1, 0.1, 0.15, 0.075, 0.075,\n",
    "    # reit\n",
    "    0.0525, 0.0975,\n",
    "    # gold\n",
    "    0.15\n",
    "])\n",
    "print(f'sum of weights: {np.sum(weights)}')\n",
    "\n",
    "tmp = np.array([\n",
    "    df['stock_us'],\n",
    "    df['stock_eu'],\n",
    "    df['stock_ap'],\n",
    "    df['stock_em'],\n",
    "    df['bond_au'],\n",
    "    df['bond_sg'],\n",
    "    df['bond_dev'],\n",
    "    df['bond_l_em'],\n",
    "    df['bond_d_em'],\n",
    "    df['reit_us'],\n",
    "    df['reit_ex_us'],\n",
    "    df['gold'],\n",
    "])\n",
    "\n",
    "Sigma = np.cov(tmp)\n",
    "sigma_p = np.sqrt(weights.T @ Sigma @ weights) * np.sqrt(12)\n",
    "print(f\"Portfolio volatility: {sigma_p:.2%}\")\n",
    "\n",
    "sharp_ratio = (portfolio_return - rf) / sigma_p\n",
    "print(f\"Sharp ratio: {sharp_ratio:.2f}\")"
   ]
  },
  {
   "cell_type": "markdown",
   "metadata": {},
   "source": [
    "## Equally weighted portfolio"
   ]
  },
  {
   "cell_type": "code",
   "execution_count": null,
   "metadata": {},
   "outputs": [
    {
     "name": "stdout",
     "output_type": "stream",
     "text": [
      "1.0\n",
      "Portfolio volatility: 2.88%\n",
      "Sharp ratio: 332.47\n"
     ]
    }
   ],
   "source": [
    "weights = np.array([\n",
    "    # stock\n",
    "    0.075, 0.075, 0.0375, 0.0625,\n",
    "    # bond\n",
    "    0.05, 0.05, 0.075, 0.0375, 0.0375,\n",
    "    # reit\n",
    "    0.0875, 0.1625,\n",
    "    # gold\n",
    "    0.25\n",
    "])\n",
    "print(weights.sum())\n",
    "\n",
    "tmp = np.array([\n",
    "    df['stock_us'],\n",
    "    df['stock_eu'],\n",
    "    df['stock_ap'],\n",
    "    df['stock_em'],\n",
    "    df['bond_au'],\n",
    "    df['bond_sg'],\n",
    "    df['bond_dev'],\n",
    "    df['bond_l_em'],\n",
    "    df['bond_d_em'],\n",
    "    df['reit_us'],\n",
    "    df['reit_ex_us'],\n",
    "    df['gold'],\n",
    "])\n",
    "\n",
    "\n",
    "\n",
    "Sigma = np.cov(tmp)\n",
    "sigma_p = np.sqrt(weights.T @ Sigma @ weights) * np.sqrt(12)\n",
    "print(f\"Portfolio volatility: {sigma_p:.2%}\")\n",
    "\n",
    "sharp_ratio = (portfolio_return - rf) / sigma_p\n",
    "print(f\"Sharp ratio: {sharp_ratio:.2f}\")"
   ]
  },
  {
   "cell_type": "markdown",
   "metadata": {},
   "source": [
    "## Make a Pie chart"
   ]
  },
  {
   "cell_type": "code",
   "execution_count": 88,
   "metadata": {},
   "outputs": [
    {
     "data": {
      "text/plain": [
       "Text(0.5, 1.0, 'リスクパリティポートフォリオ')"
      ]
     },
     "execution_count": 88,
     "metadata": {},
     "output_type": "execute_result"
    },
    {
     "data": {
      "image/png": "[encoded data removed]",
      "text/plain": [
       "<Figure size 640x480 with 1 Axes>"
      ]
     },
     "metadata": {},
     "output_type": "display_data"
    }
   ],
   "source": [
    "weights_dict = {\n",
    "    '米国株': 0.06,\n",
    "    '欧州株': 0.06,\n",
    "    'アジア太平洋株': 0.03,\n",
    "    '新興国株': 0.05,\n",
    "    '豪州債': 0.1,\n",
    "    'シンガポール債': 0.1,\n",
    "    '先進国債': 0.15,\n",
    "    '現地通貨建新興国債': 0.075,\n",
    "    'ドル建新興国債': 0.075,\n",
    "    '米国REIT': 0.0525,\n",
    "    '除米国REIT': 0.0975,\n",
    "    'ゴールド': 0.15,\n",
    "}\n",
    "weights = np.array([\n",
    "    # stock\n",
    "    0.06, 0.06, 0.03, 0.05,\n",
    "    # bond\n",
    "    0.1, 0.1, 0.15, 0.075, 0.075,\n",
    "    # reit\n",
    "    0.0525, 0.0975,\n",
    "    # gold\n",
    "    0.15\n",
    "])\n",
    "\n",
    "plt.pie(weights, labels=weights_dict.keys(), autopct='%1.1f%%', startangle=90, counterclock=False)\n",
    "plt.title('リスクパリティポートフォリオ')"
   ]
  }
 ],
 "metadata": {
  "kernelspec": {
   "display_name": ".venv",
   "language": "python",
   "name": "python3"
  },
  "language_info": {
   "codemirror_mode": {
    "name": "ipython",
    "version": 3
   },
   "file_extension": ".py",
   "mimetype": "text/x-python",
   "name": "python",
   "nbconvert_exporter": "python",
   "pygments_lexer": "ipython3",
   "version": "3.12.6"
  }
 },
 "nbformat": 4,
 "nbformat_minor": 2
}
