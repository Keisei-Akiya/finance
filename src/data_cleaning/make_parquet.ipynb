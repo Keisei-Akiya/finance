{
 "cells": [
  {
   "cell_type": "markdown",
   "metadata": {},
   "source": [
    "# parquet"
   ]
  },
  {
   "cell_type": "code",
   "execution_count": 1,
   "metadata": {},
   "outputs": [
    {
     "data": {
      "text/html": [
       "<div><style>\n",
       ".dataframe > thead > tr,\n",
       ".dataframe > tbody > tr {\n",
       "  text-align: right;\n",
       "  white-space: pre-wrap;\n",
       "}\n",
       "</style>\n",
       "<small>shape: (5, 6)</small><table border=\"1\" class=\"dataframe\"><thead><tr><th>isin_code</th><th>investment_trust_assosiation_japan_code</th><th>investment_name</th><th>date</th><th>nav</th><th>net_assets_million</th></tr><tr><td>str</td><td>str</td><td>str</td><td>date</td><td>i64</td><td>f64</td></tr></thead><tbody><tr><td>null</td><td>&quot;0431U169&quot;</td><td>&quot;ifree_emerging_markets_bond_in…</td><td>2016-09-08</td><td>10053</td><td>1.005303</td></tr><tr><td>null</td><td>&quot;0431U169&quot;</td><td>&quot;ifree_emerging_markets_bond_in…</td><td>2016-09-09</td><td>10089</td><td>1.008859</td></tr><tr><td>null</td><td>&quot;0431U169&quot;</td><td>&quot;ifree_emerging_markets_bond_in…</td><td>2016-09-12</td><td>9994</td><td>1.936575</td></tr><tr><td>null</td><td>&quot;0431U169&quot;</td><td>&quot;ifree_emerging_markets_bond_in…</td><td>2016-09-13</td><td>9893</td><td>2.309483</td></tr><tr><td>null</td><td>&quot;0431U169&quot;</td><td>&quot;ifree_emerging_markets_bond_in…</td><td>2016-09-14</td><td>9912</td><td>2.98453</td></tr></tbody></table></div>"
      ],
      "text/plain": [
       "shape: (5, 6)\n",
       "┌───────────┬──────────────────────┬─────────────────────┬────────────┬───────┬────────────────────┐\n",
       "│ isin_code ┆ investment_trust_ass ┆ investment_name     ┆ date       ┆ nav   ┆ net_assets_million │\n",
       "│ ---       ┆ osiation_j…          ┆ ---                 ┆ ---        ┆ ---   ┆ ---                │\n",
       "│ str       ┆ ---                  ┆ str                 ┆ date       ┆ i64   ┆ f64                │\n",
       "│           ┆ str                  ┆                     ┆            ┆       ┆                    │\n",
       "╞═══════════╪══════════════════════╪═════════════════════╪════════════╪═══════╪════════════════════╡\n",
       "│ null      ┆ 0431U169             ┆ ifree_emerging_mark ┆ 2016-09-08 ┆ 10053 ┆ 1.005303           │\n",
       "│           ┆                      ┆ ets_bond_in…        ┆            ┆       ┆                    │\n",
       "│ null      ┆ 0431U169             ┆ ifree_emerging_mark ┆ 2016-09-09 ┆ 10089 ┆ 1.008859           │\n",
       "│           ┆                      ┆ ets_bond_in…        ┆            ┆       ┆                    │\n",
       "│ null      ┆ 0431U169             ┆ ifree_emerging_mark ┆ 2016-09-12 ┆ 9994  ┆ 1.936575           │\n",
       "│           ┆                      ┆ ets_bond_in…        ┆            ┆       ┆                    │\n",
       "│ null      ┆ 0431U169             ┆ ifree_emerging_mark ┆ 2016-09-13 ┆ 9893  ┆ 2.309483           │\n",
       "│           ┆                      ┆ ets_bond_in…        ┆            ┆       ┆                    │\n",
       "│ null      ┆ 0431U169             ┆ ifree_emerging_mark ┆ 2016-09-14 ┆ 9912  ┆ 2.98453            │\n",
       "│           ┆                      ┆ ets_bond_in…        ┆            ┆       ┆                    │\n",
       "└───────────┴──────────────────────┴─────────────────────┴────────────┴───────┴────────────────────┘"
      ]
     },
     "execution_count": 1,
     "metadata": {},
     "output_type": "execute_result"
    }
   ],
   "source": [
    "import polars as pl\n",
    "\n",
    "filepath = '../../../data/raw/investment_trust.csv'\n",
    "df = pl.read_csv(filepath)\n",
    "df = df.with_columns([\n",
    "    pl.col(\"date\").str.strptime(pl.Date, \"%m/%d/%Y\"),\n",
    "])\n",
    "df.head()"
   ]
  },
  {
   "cell_type": "code",
   "execution_count": 5,
   "metadata": {},
   "outputs": [
    {
     "data": {
      "text/html": [
       "<div><style>\n",
       ".dataframe > thead > tr,\n",
       ".dataframe > tbody > tr {\n",
       "  text-align: right;\n",
       "  white-space: pre-wrap;\n",
       "}\n",
       "</style>\n",
       "<small>shape: (5, 6)</small><table border=\"1\" class=\"dataframe\"><thead><tr><th>isin_code</th><th>investment_trust_association_japan_code</th><th>investment_name</th><th>date</th><th>nav</th><th>net_assets_million</th></tr><tr><td>str</td><td>str</td><td>str</td><td>date</td><td>i64</td><td>f64</td></tr></thead><tbody><tr><td>null</td><td>&quot;0431U169&quot;</td><td>&quot;ifree_emerging_markets_bond_in…</td><td>2016-09-08</td><td>10053</td><td>1.005303</td></tr><tr><td>null</td><td>&quot;0431U169&quot;</td><td>&quot;ifree_emerging_markets_bond_in…</td><td>2016-09-09</td><td>10089</td><td>1.008859</td></tr><tr><td>null</td><td>&quot;0431U169&quot;</td><td>&quot;ifree_emerging_markets_bond_in…</td><td>2016-09-12</td><td>9994</td><td>1.936575</td></tr><tr><td>null</td><td>&quot;0431U169&quot;</td><td>&quot;ifree_emerging_markets_bond_in…</td><td>2016-09-13</td><td>9893</td><td>2.309483</td></tr><tr><td>null</td><td>&quot;0431U169&quot;</td><td>&quot;ifree_emerging_markets_bond_in…</td><td>2016-09-14</td><td>9912</td><td>2.98453</td></tr></tbody></table></div>"
      ],
      "text/plain": [
       "shape: (5, 6)\n",
       "┌───────────┬──────────────────────┬─────────────────────┬────────────┬───────┬────────────────────┐\n",
       "│ isin_code ┆ investment_trust_ass ┆ investment_name     ┆ date       ┆ nav   ┆ net_assets_million │\n",
       "│ ---       ┆ ociation_j…          ┆ ---                 ┆ ---        ┆ ---   ┆ ---                │\n",
       "│ str       ┆ ---                  ┆ str                 ┆ date       ┆ i64   ┆ f64                │\n",
       "│           ┆ str                  ┆                     ┆            ┆       ┆                    │\n",
       "╞═══════════╪══════════════════════╪═════════════════════╪════════════╪═══════╪════════════════════╡\n",
       "│ null      ┆ 0431U169             ┆ ifree_emerging_mark ┆ 2016-09-08 ┆ 10053 ┆ 1.005303           │\n",
       "│           ┆                      ┆ ets_bond_in…        ┆            ┆       ┆                    │\n",
       "│ null      ┆ 0431U169             ┆ ifree_emerging_mark ┆ 2016-09-09 ┆ 10089 ┆ 1.008859           │\n",
       "│           ┆                      ┆ ets_bond_in…        ┆            ┆       ┆                    │\n",
       "│ null      ┆ 0431U169             ┆ ifree_emerging_mark ┆ 2016-09-12 ┆ 9994  ┆ 1.936575           │\n",
       "│           ┆                      ┆ ets_bond_in…        ┆            ┆       ┆                    │\n",
       "│ null      ┆ 0431U169             ┆ ifree_emerging_mark ┆ 2016-09-13 ┆ 9893  ┆ 2.309483           │\n",
       "│           ┆                      ┆ ets_bond_in…        ┆            ┆       ┆                    │\n",
       "│ null      ┆ 0431U169             ┆ ifree_emerging_mark ┆ 2016-09-14 ┆ 9912  ┆ 2.98453            │\n",
       "│           ┆                      ┆ ets_bond_in…        ┆            ┆       ┆                    │\n",
       "└───────────┴──────────────────────┴─────────────────────┴────────────┴───────┴────────────────────┘"
      ]
     },
     "execution_count": 5,
     "metadata": {},
     "output_type": "execute_result"
    }
   ],
   "source": [
    "df = df.rename({'investment_trust_assosiation_japan_code': 'investment_trust_association_japan_code'})\n",
    "df.head()"
   ]
  },
  {
   "cell_type": "code",
   "execution_count": 7,
   "metadata": {},
   "outputs": [],
   "source": [
    "df.write_csv('../../../data/raw/investment_trust.csv')\n",
    "df.write_parquet('../../../data/raw/investment_trust.parquet')"
   ]
  },
  {
   "cell_type": "code",
   "execution_count": 8,
   "metadata": {},
   "outputs": [
    {
     "data": {
      "text/html": [
       "<div><style>\n",
       ".dataframe > thead > tr,\n",
       ".dataframe > tbody > tr {\n",
       "  text-align: right;\n",
       "  white-space: pre-wrap;\n",
       "}\n",
       "</style>\n",
       "<small>shape: (5, 6)</small><table border=\"1\" class=\"dataframe\"><thead><tr><th>isin_code</th><th>investment_trust_association_japan_code</th><th>investment_name</th><th>date</th><th>nav</th><th>net_assets_million</th></tr><tr><td>str</td><td>str</td><td>str</td><td>date</td><td>i64</td><td>f64</td></tr></thead><tbody><tr><td>null</td><td>&quot;0431U169&quot;</td><td>&quot;ifree_emerging_markets_bond_in…</td><td>2016-09-08</td><td>10053</td><td>1.005303</td></tr><tr><td>null</td><td>&quot;0431U169&quot;</td><td>&quot;ifree_emerging_markets_bond_in…</td><td>2016-09-09</td><td>10089</td><td>1.008859</td></tr><tr><td>null</td><td>&quot;0431U169&quot;</td><td>&quot;ifree_emerging_markets_bond_in…</td><td>2016-09-12</td><td>9994</td><td>1.936575</td></tr><tr><td>null</td><td>&quot;0431U169&quot;</td><td>&quot;ifree_emerging_markets_bond_in…</td><td>2016-09-13</td><td>9893</td><td>2.309483</td></tr><tr><td>null</td><td>&quot;0431U169&quot;</td><td>&quot;ifree_emerging_markets_bond_in…</td><td>2016-09-14</td><td>9912</td><td>2.98453</td></tr></tbody></table></div>"
      ],
      "text/plain": [
       "shape: (5, 6)\n",
       "┌───────────┬──────────────────────┬─────────────────────┬────────────┬───────┬────────────────────┐\n",
       "│ isin_code ┆ investment_trust_ass ┆ investment_name     ┆ date       ┆ nav   ┆ net_assets_million │\n",
       "│ ---       ┆ ociation_j…          ┆ ---                 ┆ ---        ┆ ---   ┆ ---                │\n",
       "│ str       ┆ ---                  ┆ str                 ┆ date       ┆ i64   ┆ f64                │\n",
       "│           ┆ str                  ┆                     ┆            ┆       ┆                    │\n",
       "╞═══════════╪══════════════════════╪═════════════════════╪════════════╪═══════╪════════════════════╡\n",
       "│ null      ┆ 0431U169             ┆ ifree_emerging_mark ┆ 2016-09-08 ┆ 10053 ┆ 1.005303           │\n",
       "│           ┆                      ┆ ets_bond_in…        ┆            ┆       ┆                    │\n",
       "│ null      ┆ 0431U169             ┆ ifree_emerging_mark ┆ 2016-09-09 ┆ 10089 ┆ 1.008859           │\n",
       "│           ┆                      ┆ ets_bond_in…        ┆            ┆       ┆                    │\n",
       "│ null      ┆ 0431U169             ┆ ifree_emerging_mark ┆ 2016-09-12 ┆ 9994  ┆ 1.936575           │\n",
       "│           ┆                      ┆ ets_bond_in…        ┆            ┆       ┆                    │\n",
       "│ null      ┆ 0431U169             ┆ ifree_emerging_mark ┆ 2016-09-13 ┆ 9893  ┆ 2.309483           │\n",
       "│           ┆                      ┆ ets_bond_in…        ┆            ┆       ┆                    │\n",
       "│ null      ┆ 0431U169             ┆ ifree_emerging_mark ┆ 2016-09-14 ┆ 9912  ┆ 2.98453            │\n",
       "│           ┆                      ┆ ets_bond_in…        ┆            ┆       ┆                    │\n",
       "└───────────┴──────────────────────┴─────────────────────┴────────────┴───────┴────────────────────┘"
      ]
     },
     "execution_count": 8,
     "metadata": {},
     "output_type": "execute_result"
    }
   ],
   "source": [
    "df_parquet = pl.read_parquet('../../../data/raw/investment_trust.parquet')\n",
    "df_parquet.head()"
   ]
  }
 ],
 "metadata": {
  "kernelspec": {
   "display_name": ".venv",
   "language": "python",
   "name": "python3"
  },
  "language_info": {
   "codemirror_mode": {
    "name": "ipython",
    "version": 3
   },
   "file_extension": ".py",
   "mimetype": "text/x-python",
   "name": "python",
   "nbconvert_exporter": "python",
   "pygments_lexer": "ipython3",
   "version": "3.12.6"
  }
 },
 "nbformat": 4,
 "nbformat_minor": 2
}
