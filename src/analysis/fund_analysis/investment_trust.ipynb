{
 "cells": [
  {
   "cell_type": "markdown",
   "metadata": {},
   "source": [
    "# 投資信託の評価"
   ]
  },
  {
   "cell_type": "code",
   "execution_count": 22,
   "metadata": {},
   "outputs": [],
   "source": [
    "import polars as pl\n",
    "import numpy as np\n",
    "import matplotlib.pyplot as plt\n",
    "import japanize_matplotlib\n",
    "import yfinance as yf"
   ]
  },
  {
   "cell_type": "code",
   "execution_count": 84,
   "metadata": {},
   "outputs": [
    {
     "data": {
      "text/html": [
       "<div><style>\n",
       ".dataframe > thead > tr,\n",
       ".dataframe > tbody > tr {\n",
       "  text-align: right;\n",
       "  white-space: pre-wrap;\n",
       "}\n",
       "</style>\n",
       "<small>shape: (5, 5)</small><table border=\"1\" class=\"dataframe\"><thead><tr><th>date</th><th>ifree_em_bond_nav</th><th>sbi_em_stock_nav</th><th>sbi_vti_nav</th><th>emaxis_slim_dev_bond_nav</th></tr><tr><td>str</td><td>f32</td><td>f32</td><td>f32</td><td>f32</td></tr></thead><tbody><tr><td>&quot;2016-09&quot;</td><td>9888.0</td><td>null</td><td>null</td><td>null</td></tr><tr><td>&quot;2016-10&quot;</td><td>10135.0</td><td>null</td><td>null</td><td>null</td></tr><tr><td>&quot;2016-11&quot;</td><td>10141.0</td><td>null</td><td>null</td><td>null</td></tr><tr><td>&quot;2017-01&quot;</td><td>10652.0</td><td>null</td><td>null</td><td>null</td></tr><tr><td>&quot;2017-02&quot;</td><td>10809.0</td><td>null</td><td>null</td><td>9997.0</td></tr></tbody></table></div>"
      ],
      "text/plain": [
       "shape: (5, 5)\n",
       "┌─────────┬───────────────────┬──────────────────┬─────────────┬──────────────────────────┐\n",
       "│ date    ┆ ifree_em_bond_nav ┆ sbi_em_stock_nav ┆ sbi_vti_nav ┆ emaxis_slim_dev_bond_nav │\n",
       "│ ---     ┆ ---               ┆ ---              ┆ ---         ┆ ---                      │\n",
       "│ str     ┆ f32               ┆ f32              ┆ f32         ┆ f32                      │\n",
       "╞═════════╪═══════════════════╪══════════════════╪═════════════╪══════════════════════════╡\n",
       "│ 2016-09 ┆ 9888.0            ┆ null             ┆ null        ┆ null                     │\n",
       "│ 2016-10 ┆ 10135.0           ┆ null             ┆ null        ┆ null                     │\n",
       "│ 2016-11 ┆ 10141.0           ┆ null             ┆ null        ┆ null                     │\n",
       "│ 2017-01 ┆ 10652.0           ┆ null             ┆ null        ┆ null                     │\n",
       "│ 2017-02 ┆ 10809.0           ┆ null             ┆ null        ┆ 9997.0                   │\n",
       "└─────────┴───────────────────┴──────────────────┴─────────────┴──────────────────────────┘"
      ]
     },
     "execution_count": 84,
     "metadata": {},
     "output_type": "execute_result"
    }
   ],
   "source": [
    "path = '../../../../data/row/investment_trust.parquet'\n",
    "df = pl.read_parquet(path)\n",
    "# 月末のデータを抽出\n",
    "df = df.with_columns(\n",
    "    (pl.col('date').dt.month_end()).alias('is_month_end')\n",
    ").drop(\n",
    "    ['ifree_em_bond_net_assets', 'sbi_em_stock_net_assets', 'sbi_vti_net_assets', 'emaxis_slim_dev_bond_net_assets']\n",
    ")\n",
    "month_end_dates = df['is_month_end'].unique().sort()\n",
    "df_month = df.filter(pl.col('date').is_in(month_end_dates))\n",
    "df_month = df_month.with_columns(\n",
    "    pl.col('date').dt.strftime('%Y-%m').alias('date')\n",
    ").drop('is_month_end')\n",
    "df_month.head()"
   ]
  },
  {
   "cell_type": "code",
   "execution_count": 85,
   "metadata": {},
   "outputs": [
    {
     "name": "stderr",
     "output_type": "stream",
     "text": [
      "[*********************100%***********************]  2 of 2 completed\n"
     ]
    },
    {
     "data": {
      "text/html": [
       "<div><style>\n",
       ".dataframe > thead > tr,\n",
       ".dataframe > tbody > tr {\n",
       "  text-align: right;\n",
       "  white-space: pre-wrap;\n",
       "}\n",
       "</style>\n",
       "<small>shape: (5, 3)</small><table border=\"1\" class=\"dataframe\"><thead><tr><th>date</th><th>vgk_value</th><th>vpl_value</th></tr><tr><td>str</td><td>f64</td><td>f64</td></tr></thead><tbody><tr><td>&quot;2005-04&quot;</td><td>23.385565</td><td>27.8941</td></tr><tr><td>&quot;2005-05&quot;</td><td>23.448658</td><td>27.702244</td></tr><tr><td>&quot;2005-06&quot;</td><td>23.764088</td><td>28.2313</td></tr><tr><td>&quot;2005-07&quot;</td><td>24.419207</td><td>28.708014</td></tr><tr><td>&quot;2005-08&quot;</td><td>25.113153</td><td>30.423054</td></tr></tbody></table></div>"
      ],
      "text/plain": [
       "shape: (5, 3)\n",
       "┌─────────┬───────────┬───────────┐\n",
       "│ date    ┆ vgk_value ┆ vpl_value │\n",
       "│ ---     ┆ ---       ┆ ---       │\n",
       "│ str     ┆ f64       ┆ f64       │\n",
       "╞═════════╪═══════════╪═══════════╡\n",
       "│ 2005-04 ┆ 23.385565 ┆ 27.8941   │\n",
       "│ 2005-05 ┆ 23.448658 ┆ 27.702244 │\n",
       "│ 2005-06 ┆ 23.764088 ┆ 28.2313   │\n",
       "│ 2005-07 ┆ 24.419207 ┆ 28.708014 │\n",
       "│ 2005-08 ┆ 25.113153 ┆ 30.423054 │\n",
       "└─────────┴───────────┴───────────┘"
      ]
     },
     "execution_count": 85,
     "metadata": {},
     "output_type": "execute_result"
    }
   ],
   "source": [
    "ticker = yf.Tickers(['VGK', 'VPL'])\n",
    "historical_data = ticker.history(period='max', interval='1mo')\n",
    "historical_data.head()\n",
    "df = pl.DataFrame({\n",
    "    'date': pl.Series(historical_data.index).dt.strftime('%Y-%m'),\n",
    "    'vgk_value': pl.Series(historical_data['Close']['VGK']),\n",
    "    'vpl_value': pl.Series(historical_data['Close']['VPL']),\n",
    "})\n",
    "# df = df.with_columns([\n",
    "#     pl.col('vgk_value').log().alias('vgk_log_value'),\n",
    "#     pl.col('vpl_value').log().alias('vpl_log_value'),\n",
    "# ])\n",
    "# df = df.with_columns([\n",
    "#     pl.col('vgk_log_value').diff().alias('vgk_log_return'),\n",
    "#     pl.col('vpl_log_value').diff().alias('vpl_log_return'),\n",
    "# ])\n",
    "\n",
    "df.head()"
   ]
  },
  {
   "cell_type": "markdown",
   "metadata": {},
   "source": [
    "## 各リターン，ボラティリティ"
   ]
  },
  {
   "cell_type": "code",
   "execution_count": 72,
   "metadata": {},
   "outputs": [
    {
     "name": "stdout",
     "output_type": "stream",
     "text": [
      "年率リターン: 12.99%\n",
      "ボラティリティ: 17.99%\n",
      "シャープレシオ: 0.72\n"
     ]
    }
   ],
   "source": [
    "fund_name = 'sbi_vti_nav'\n",
    "fund = df_month[['date', f'{fund_name}']]\n",
    "fund = fund.with_columns([\n",
    "    pl.col(f'{fund_name}').log().alias('log_value'),\n",
    "])\n",
    "fund = fund.with_columns([\n",
    "    pl.col('log_value').diff().alias('log_diff'),\n",
    "])\n",
    "fund.head()\n",
    "\n",
    "years = len(fund) / 12\n",
    "first_value = fund[f'{fund_name}'].drop_nulls()[0]\n",
    "last_value = fund[f'{fund_name}'].drop_nulls()[-1]\n",
    "cagr = (last_value / first_value) ** (1 / years) - 1\n",
    "print(f'年率リターン: {cagr:.2%}')\n",
    "\n",
    "vti_vol = np.std(fund['log_diff'].drop_nulls().to_numpy()) * np.sqrt(12)\n",
    "print(f'ボラティリティ: {vti_vol:.2%}')\n",
    "\n",
    "sharp_ratio = cagr / vti_vol\n",
    "print(f'シャープレシオ: {sharp_ratio:.2f}')"
   ]
  },
  {
   "cell_type": "code",
   "execution_count": 69,
   "metadata": {},
   "outputs": [
    {
     "name": "stdout",
     "output_type": "stream",
     "text": [
      "年率リターン: 8.05%\n",
      "ボラティリティ: 20.04%\n",
      "シャープレシオ: 0.40\n"
     ]
    }
   ],
   "source": [
    "fund_name = 'sbi_em_stock_nav'\n",
    "fund = df_month[['date', f'{fund_name}']]\n",
    "fund = fund.with_columns([\n",
    "    pl.col(f'{fund_name}').log().alias('log_value'),\n",
    "])\n",
    "fund = fund.with_columns([\n",
    "    pl.col('log_value').diff().alias('log_diff'),\n",
    "])\n",
    "fund.head()\n",
    "\n",
    "years = len(fund) / 12\n",
    "first_value = fund[f'{fund_name}'].drop_nulls()[0]\n",
    "last_value = fund[f'{fund_name}'].drop_nulls()[-1]\n",
    "cagr = (last_value / first_value) ** (1 / years) - 1\n",
    "print(f'年率リターン: {cagr:.2%}')\n",
    "\n",
    "vti_vol = np.std(fund['log_diff'].drop_nulls().to_numpy()) * np.sqrt(12)\n",
    "print(f'ボラティリティ: {vti_vol:.2%}')\n",
    "\n",
    "sharp_ratio = cagr / vti_vol\n",
    "print(f'シャープレシオ: {sharp_ratio:.2f}')"
   ]
  },
  {
   "cell_type": "code",
   "execution_count": 70,
   "metadata": {},
   "outputs": [
    {
     "name": "stdout",
     "output_type": "stream",
     "text": [
      "年率リターン: 6.08%\n",
      "ボラティリティ: 6.13%\n",
      "シャープレシオ: 0.99\n"
     ]
    }
   ],
   "source": [
    "fund_name = 'emaxis_slim_dev_bond_nav'\n",
    "fund = df_month[['date', f'{fund_name}']]\n",
    "fund = fund.with_columns([\n",
    "    pl.col(f'{fund_name}').log().alias('log_value'),\n",
    "])\n",
    "fund = fund.with_columns([\n",
    "    pl.col('log_value').diff().alias('log_diff'),\n",
    "])\n",
    "fund.head()\n",
    "\n",
    "years = len(fund) / 12\n",
    "first_value = fund[f'{fund_name}'].drop_nulls()[0]\n",
    "last_value = fund[f'{fund_name}'].drop_nulls()[-1]\n",
    "cagr = (last_value / first_value) ** (1 / years) - 1\n",
    "print(f'年率リターン: {cagr:.2%}')\n",
    "\n",
    "vti_vol = np.std(fund['log_diff'].drop_nulls().to_numpy()) * np.sqrt(12)\n",
    "print(f'ボラティリティ: {vti_vol:.2%}')\n",
    "\n",
    "sharp_ratio = cagr / vti_vol\n",
    "print(f'シャープレシオ: {sharp_ratio:.2f}')"
   ]
  },
  {
   "cell_type": "code",
   "execution_count": 71,
   "metadata": {},
   "outputs": [
    {
     "name": "stdout",
     "output_type": "stream",
     "text": [
      "年率リターン: 8.67%\n",
      "ボラティリティ: 11.42%\n",
      "シャープレシオ: 0.76\n"
     ]
    }
   ],
   "source": [
    "fund_name = 'ifree_em_bond_nav'\n",
    "fund = df_month[['date', f'{fund_name}']]\n",
    "fund = fund.with_columns([\n",
    "    pl.col(f'{fund_name}').log().alias('log_value'),\n",
    "])\n",
    "fund = fund.with_columns([\n",
    "    pl.col('log_value').diff().alias('log_diff'),\n",
    "])\n",
    "fund.head()\n",
    "\n",
    "years = len(fund) / 12\n",
    "first_value = fund[f'{fund_name}'].drop_nulls()[0]\n",
    "last_value = fund[f'{fund_name}'].drop_nulls()[-1]\n",
    "cagr = (last_value / first_value) ** (1 / years) - 1\n",
    "print(f'年率リターン: {cagr:.2%}')\n",
    "\n",
    "vti_vol = np.std(fund['log_diff'].drop_nulls().to_numpy()) * np.sqrt(12)\n",
    "print(f'ボラティリティ: {vti_vol:.2%}')\n",
    "\n",
    "sharp_ratio = cagr / vti_vol\n",
    "print(f'シャープレシオ: {sharp_ratio:.2f}')"
   ]
  },
  {
   "cell_type": "code",
   "execution_count": 81,
   "metadata": {},
   "outputs": [
    {
     "name": "stdout",
     "output_type": "stream",
     "text": [
      "年率リターン: 5.57%\n",
      "Volatility: 19.34%\n",
      "Sharp Ratio: 0.29\n"
     ]
    }
   ],
   "source": [
    "df = pl.DataFrame(df)\n",
    "\n",
    "years = len(df) / 12\n",
    "first_value = df['vgk_value'][0]\n",
    "last_value = df['vgk_value'][-1]\n",
    "cagr = (last_value / first_value) ** (1 / years) - 1\n",
    "print(f'年率リターン: {cagr:.2%}')\n",
    "\n",
    "df = df.with_columns([\n",
    "    pl.col('vgk_value').log().alias('vgk_log_value'),\n",
    "    pl.col('vpl_value').log().alias('vpl_log_value'),\n",
    "])\n",
    "df = df.with_columns([\n",
    "    pl.col('vgk_log_value').diff().alias('vgk_log_return'),\n",
    "    pl.col('vpl_log_value').diff().alias('vpl_log_return'),\n",
    "])\n",
    "vgk_vol = np.std(df['vgk_log_return'].drop_nulls().to_numpy()) * np.sqrt(12)\n",
    "print(f'Volatility: {vgk_vol:.2%}')\n",
    "\n",
    "sharp_ratio = cagr / vgk_vol\n",
    "print(f'Sharp Ratio: {sharp_ratio:.2f}')"
   ]
  },
  {
   "cell_type": "code",
   "execution_count": 82,
   "metadata": {},
   "outputs": [
    {
     "name": "stdout",
     "output_type": "stream",
     "text": [
      "年率リターン: 4.99%\n",
      "Volatility: 16.32%\n",
      "Sharp Ratio: 0.31\n"
     ]
    }
   ],
   "source": [
    "df = pl.DataFrame(df)\n",
    "\n",
    "years = len(df) / 12\n",
    "first_value = df['vpl_value'][0]\n",
    "last_value = df['vpl_value'][-1]\n",
    "cagr = (last_value / first_value) ** (1 / years) - 1\n",
    "print(f'年率リターン: {cagr:.2%}')\n",
    "\n",
    "df = df.with_columns([\n",
    "    pl.col('vgk_value').log().alias('vgk_log_value'),\n",
    "    pl.col('vpl_value').log().alias('vpl_log_value'),\n",
    "])\n",
    "df = df.with_columns([\n",
    "    pl.col('vgk_log_value').diff().alias('vgk_log_return'),\n",
    "    pl.col('vpl_log_value').diff().alias('vpl_log_return'),\n",
    "])\n",
    "vgk_vol = np.std(df['vpl_log_return'].drop_nulls().to_numpy()) * np.sqrt(12)\n",
    "print(f'Volatility: {vgk_vol:.2%}')\n",
    "\n",
    "sharp_ratio = cagr / vgk_vol\n",
    "print(f'Sharp Ratio: {sharp_ratio:.2f}')"
   ]
  },
  {
   "cell_type": "markdown",
   "metadata": {},
   "source": [
    "## ポートフォリオのリターン，ボラティリティ"
   ]
  },
  {
   "cell_type": "code",
   "execution_count": 86,
   "metadata": {},
   "outputs": [
    {
     "data": {
      "text/html": [
       "<div><style>\n",
       ".dataframe > thead > tr,\n",
       ".dataframe > tbody > tr {\n",
       "  text-align: right;\n",
       "  white-space: pre-wrap;\n",
       "}\n",
       "</style>\n",
       "<small>shape: (5, 7)</small><table border=\"1\" class=\"dataframe\"><thead><tr><th>date</th><th>vgk_value</th><th>vpl_value</th><th>ifree_em_bond_nav</th><th>sbi_em_stock_nav</th><th>sbi_vti_nav</th><th>emaxis_slim_dev_bond_nav</th></tr><tr><td>str</td><td>f64</td><td>f64</td><td>f32</td><td>f32</td><td>f32</td><td>f32</td></tr></thead><tbody><tr><td>&quot;2021-06&quot;</td><td>59.18586</td><td>73.049988</td><td>12019.0</td><td>13201.0</td><td>10000.0</td><td>11726.0</td></tr><tr><td>&quot;2021-08&quot;</td><td>62.05545</td><td>73.323189</td><td>11896.0</td><td>12348.0</td><td>10413.0</td><td>11801.0</td></tr><tr><td>&quot;2021-09&quot;</td><td>58.372158</td><td>72.358871</td><td>11753.0</td><td>12191.0</td><td>10219.0</td><td>11718.0</td></tr><tr><td>&quot;2021-11&quot;</td><td>58.647778</td><td>69.209824</td><td>11432.0</td><td>12216.0</td><td>11016.0</td><td>11834.0</td></tr><tr><td>&quot;2022-01&quot;</td><td>59.490448</td><td>67.799835</td><td>11726.0</td><td>12319.0</td><td>10456.0</td><td>11698.0</td></tr></tbody></table></div>"
      ],
      "text/plain": [
       "shape: (5, 7)\n",
       "┌─────────┬───────────┬───────────┬────────────────┬────────────────┬─────────────┬────────────────┐\n",
       "│ date    ┆ vgk_value ┆ vpl_value ┆ ifree_em_bond_ ┆ sbi_em_stock_n ┆ sbi_vti_nav ┆ emaxis_slim_de │\n",
       "│ ---     ┆ ---       ┆ ---       ┆ nav            ┆ av             ┆ ---         ┆ v_bond_nav     │\n",
       "│ str     ┆ f64       ┆ f64       ┆ ---            ┆ ---            ┆ f32         ┆ ---            │\n",
       "│         ┆           ┆           ┆ f32            ┆ f32            ┆             ┆ f32            │\n",
       "╞═════════╪═══════════╪═══════════╪════════════════╪════════════════╪═════════════╪════════════════╡\n",
       "│ 2021-06 ┆ 59.18586  ┆ 73.049988 ┆ 12019.0        ┆ 13201.0        ┆ 10000.0     ┆ 11726.0        │\n",
       "│ 2021-08 ┆ 62.05545  ┆ 73.323189 ┆ 11896.0        ┆ 12348.0        ┆ 10413.0     ┆ 11801.0        │\n",
       "│ 2021-09 ┆ 58.372158 ┆ 72.358871 ┆ 11753.0        ┆ 12191.0        ┆ 10219.0     ┆ 11718.0        │\n",
       "│ 2021-11 ┆ 58.647778 ┆ 69.209824 ┆ 11432.0        ┆ 12216.0        ┆ 11016.0     ┆ 11834.0        │\n",
       "│ 2022-01 ┆ 59.490448 ┆ 67.799835 ┆ 11726.0        ┆ 12319.0        ┆ 10456.0     ┆ 11698.0        │\n",
       "└─────────┴───────────┴───────────┴────────────────┴────────────────┴─────────────┴────────────────┘"
      ]
     },
     "execution_count": 86,
     "metadata": {},
     "output_type": "execute_result"
    }
   ],
   "source": [
    "df = df.join(df_month, on='date', how='left').drop_nulls()\n",
    "df.head()"
   ]
  },
  {
   "cell_type": "code",
   "execution_count": 87,
   "metadata": {},
   "outputs": [
    {
     "data": {
      "text/html": [
       "<div><style>\n",
       ".dataframe > thead > tr,\n",
       ".dataframe > tbody > tr {\n",
       "  text-align: right;\n",
       "  white-space: pre-wrap;\n",
       "}\n",
       "</style>\n",
       "<small>shape: (5, 4)</small><table border=\"1\" class=\"dataframe\"><thead><tr><th>vti_log_return</th><th>vgk_log_return</th><th>vpl_log_return</th><th>sbi_em_stock_log_return</th></tr><tr><td>f32</td><td>f64</td><td>f64</td><td>f32</td></tr></thead><tbody><tr><td>0.04047</td><td>0.047346</td><td>0.003733</td><td>-0.066798</td></tr><tr><td>-0.018806</td><td>-0.061189</td><td>-0.013239</td><td>-0.012796</td></tr><tr><td>0.0751</td><td>0.004711</td><td>-0.044495</td><td>0.002048</td></tr><tr><td>-0.052173</td><td>0.014266</td><td>-0.020583</td><td>0.008396</td></tr><tr><td>-0.002394</td><td>-0.054337</td><td>-0.000269</td><td>0.001622</td></tr></tbody></table></div>"
      ],
      "text/plain": [
       "shape: (5, 4)\n",
       "┌────────────────┬────────────────┬────────────────┬─────────────────────────┐\n",
       "│ vti_log_return ┆ vgk_log_return ┆ vpl_log_return ┆ sbi_em_stock_log_return │\n",
       "│ ---            ┆ ---            ┆ ---            ┆ ---                     │\n",
       "│ f32            ┆ f64            ┆ f64            ┆ f32                     │\n",
       "╞════════════════╪════════════════╪════════════════╪═════════════════════════╡\n",
       "│ 0.04047        ┆ 0.047346       ┆ 0.003733       ┆ -0.066798               │\n",
       "│ -0.018806      ┆ -0.061189      ┆ -0.013239      ┆ -0.012796               │\n",
       "│ 0.0751         ┆ 0.004711       ┆ -0.044495      ┆ 0.002048                │\n",
       "│ -0.052173      ┆ 0.014266       ┆ -0.020583      ┆ 0.008396                │\n",
       "│ -0.002394      ┆ -0.054337      ┆ -0.000269      ┆ 0.001622                │\n",
       "└────────────────┴────────────────┴────────────────┴─────────────────────────┘"
      ]
     },
     "execution_count": 87,
     "metadata": {},
     "output_type": "execute_result"
    }
   ],
   "source": [
    "df_log_return = pl.DataFrame({\n",
    "    'vti_log_return': df['sbi_vti_nav'].log().diff(),\n",
    "    'vgk_log_return': df['vgk_value'].log().diff(),\n",
    "    'vpl_log_return': df['vpl_value'].log().diff(),\n",
    "    'sbi_em_stock_log_return': df['sbi_em_stock_nav'].log().diff(),\n",
    "}).drop_nulls()\n",
    "\n",
    "df_log_return.head()"
   ]
  },
  {
   "cell_type": "code",
   "execution_count": null,
   "metadata": {},
   "outputs": [
    {
     "name": "stdout",
     "output_type": "stream",
     "text": [
      "ポートフォリオのボラティリティ: 12.79%\n"
     ]
    }
   ],
   "source": [
    "# 均等加重\n",
    "weights = np.array([0.30, 0.30, 0.15, 0.25])\n",
    "\n",
    "\n",
    "tmp = np.array(df_log_return)\n",
    "cov_matrix = np.cov(tmp, rowvar=False)\n",
    "\n",
    "returns = np.array()\n",
    "\n",
    "portfolio_variance = np.dot(weights.T, np.dot(cov_matrix, weights))\n",
    "portfolio_std = np.sqrt(portfolio_variance) * np.sqrt(12)\n",
    "\n",
    "print(f'ポートフォリオのボラティリティ: {portfolio_std:.2%}')"
   ]
  },
  {
   "cell_type": "code",
   "execution_count": null,
   "metadata": {},
   "outputs": [],
   "source": []
  }
 ],
 "metadata": {
  "kernelspec": {
   "display_name": ".venv",
   "language": "python",
   "name": "python3"
  },
  "language_info": {
   "codemirror_mode": {
    "name": "ipython",
    "version": 3
   },
   "file_extension": ".py",
   "mimetype": "text/x-python",
   "name": "python",
   "nbconvert_exporter": "python",
   "pygments_lexer": "ipython3",
   "version": "3.12.6"
  }
 },
 "nbformat": 4,
 "nbformat_minor": 2
}
